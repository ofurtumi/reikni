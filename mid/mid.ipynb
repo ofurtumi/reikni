{
 "cells": [
  {
   "cell_type": "markdown",
   "metadata": {},
   "source": [
    "# 33 mannfjöldaspá fyrir Ísland\n"
   ]
  },
  {
   "cell_type": "markdown",
   "metadata": {},
   "source": [
    "## 1. setup og stofnstærð 2020-2050\n"
   ]
  },
  {
   "cell_type": "code",
   "execution_count": 41,
   "metadata": {},
   "outputs": [
    {
     "name": "stdout",
     "output_type": "stream",
     "text": [
      "árið 2020 er stofnfjöldinn 366517\n",
      "árið 2025 er stofnfjöldinn 398960\n",
      "árið 2030 er stofnfjöldinn 427764\n",
      "árið 2035 er stofnfjöldinn 451414\n",
      "árið 2040 er stofnfjöldinn 470958\n",
      "árið 2045 er stofnfjöldinn 488622\n",
      "árið 2050 er stofnfjöldinn 510213\n"
     ]
    }
   ],
   "source": [
    "import numpy as np\n",
    "import numpy.linalg as la\n",
    "\n",
    "f = \"https://cs.hi.is/python/aldursdreifing.txt\"\n",
    "all = np.loadtxt(f, skiprows=1, encoding=\"UTF-8\").T\n",
    "\n",
    "aldur = np.array(all[0])  # aldur fólks\n",
    "fjold = np.array(all[1])  # upphafsfjöldi\n",
    "danar = np.array(all[2])  # dánartíðni\n",
    "faedi = np.array(all[3])  # fæðingartíðni\n",
    "adumb = np.array(all[4])  # aðfluttir umfr. brottfluttra\n",
    "\n",
    "leslie = np.zeros((111, 111))\n",
    "leslie[0] = faedi\n",
    "for i in range(1, 111):\n",
    "    leslie[i][i - 1] = 1 - danar[i - 1]\n",
    "\n",
    "\n",
    "def stofnstaerd(ar):\n",
    "    return sum(la.matrix_power(leslie, ar) @ fjold)\n",
    "\n",
    "\n",
    "# námunda að næstu heiltölu bara til að fegra outputið\n",
    "tafla = [(stofnstaerd(i)) for i in range(0, 35, 5)]\n",
    "for i in range(7):\n",
    "    print(f\"árið {2020+i*5} er stofnfjöldinn {round(tafla[i])}\")\n"
   ]
  },
  {
   "cell_type": "markdown",
   "metadata": {},
   "source": [
    "## 2. stofnstærð með innflytjendum\n"
   ]
  },
  {
   "cell_type": "code",
   "execution_count": 53,
   "metadata": {},
   "outputs": [
    {
     "name": "stdout",
     "output_type": "stream",
     "text": [
      "4425.0\n",
      "404170.664560691\n"
     ]
    }
   ],
   "source": [
    "def stofnstaerdInnflyt(ar):\n",
    "    return sum((la.matrix_power(leslie, ar) @ fjold) + adumb )\n",
    "\n",
    "\n",
    "print(stofnstaerdInnflyt(5))\n"
   ]
  },
  {
   "cell_type": "code",
   "execution_count": 58,
   "metadata": {},
   "outputs": [
    {
     "name": "stdout",
     "output_type": "stream",
     "text": [
      "ef 250000 kr hefðu verið lagðar inn með 3% vöxtum væri sú upphæð í byrjun mars 2021 orðin að 403750 kr\n"
     ]
    }
   ],
   "source": [
    "## ég fæddist 06/09/2001 þ.e. fyrir 7493 dögum, sem eru 20 ár og 6 mánuðir í mars 2021\n",
    "buh = 250000            # byrjunarupphæð\n",
    "luh = vextir(buh,3,0,246) # lokaupphæð\n",
    "print(f'ef 250000 kr hefðu verið lagðar inn með 3% vöxtum væri sú upphæð í byrjun mars 2021 orðin að {buh + luh} kr')"
   ]
  },
  {
   "cell_type": "markdown",
   "metadata": {},
   "source": [
    "## 3."
   ]
  },
  {
   "cell_type": "code",
   "execution_count": 74,
   "metadata": {},
   "outputs": [
    {
     "name": "stdout",
     "output_type": "stream",
     "text": [
      "(5, 6)\n",
      "(8, 0)\n"
     ]
    }
   ],
   "source": [
    "def finnaVexti(p):\n",
    "    # nota 72 regluna\n",
    "    months = 72 / (p/12)    # deili vöxtunum með 12 til að fá mánaðarlega ávöxtun\n",
    "    years = int(months/12)\n",
    "    months = int(months % 12)\n",
    "\n",
    "    return (years, months)\n",
    "\n",
    "print(finnaVexti(13))\n",
    "print(finnaVexti(9))"
   ]
  }
 ],
 "metadata": {
  "interpreter": {
   "hash": "d81070026743709bb9828d5354e0a026335c39c8cec37d047fb4b5fc369d19fc"
  },
  "kernelspec": {
   "display_name": "Python 3.10.0 64-bit",
   "language": "python",
   "name": "python3"
  },
  "language_info": {
   "codemirror_mode": {
    "name": "ipython",
    "version": 3
   },
   "file_extension": ".py",
   "mimetype": "text/x-python",
   "name": "python",
   "nbconvert_exporter": "python",
   "pygments_lexer": "ipython3",
   "version": "3.10.0"
  },
  "orig_nbformat": 4
 },
 "nbformat": 4,
 "nbformat_minor": 2
}
