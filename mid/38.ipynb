{
 "cells": [
  {
   "cell_type": "markdown",
   "metadata": {},
   "source": [
    "# b"
   ]
  },
  {
   "cell_type": "markdown",
   "metadata": {},
   "source": [
    "## 1."
   ]
  },
  {
   "cell_type": "code",
   "execution_count": null,
   "metadata": {},
   "outputs": [],
   "source": [
    "# tekur inn:\n",
    "# upphafstölu u\n",
    "# vaxtaprósentu p\n",
    "# fjölda ára k\n",
    "# fjölda mánaða m\n",
    "\n",
    "def vextir(u, p, k, m):\n",
    "    a = p / 100\n",
    "    v = (u * (1 + a) ** k) * (1 + ((a * m) / 12)) - u\n",
    "    return int(v)\n",
    "\n",
    "print(vextir(10000,2,3,4))"
   ]
  },
  {
   "cell_type": "markdown",
   "metadata": {},
   "source": [
    "## 2."
   ]
  },
  {
   "cell_type": "code",
   "execution_count": null,
   "metadata": {},
   "outputs": [],
   "source": [
    "## ég fæddist 06/09/2001 þ.e. fyrir 7493 dögum, sem eru 20 ár og 6 mánuðir í mars 2021\n",
    "buh = 250000            # byrjunarupphæð\n",
    "luh = vextir(buh,3,0,246) # lokaupphæð\n",
    "print(f'ef 250000 kr hefðu verið lagðar inn með 3% vöxtum væri sú upphæð í byrjun mars 2021 orðin að {buh + luh} kr')"
   ]
  },
  {
   "cell_type": "markdown",
   "metadata": {},
   "source": [
    "## 3"
   ]
  },
  {
   "cell_type": "code",
   "execution_count": 1,
   "metadata": {},
   "outputs": [
    {
     "name": "stdout",
     "output_type": "stream",
     "text": [
      "(5, 6)\n",
      "(8, 0)\n"
     ]
    }
   ],
   "source": [
    "def finnaVexti(p):\n",
    "    # nota 72 regluna\n",
    "    months = 72 / (p/12)    # deili vöxtunum með 12 til að fá mánaðarlega ávöxtun\n",
    "    years = int(months/12)\n",
    "    months = int(months % 12)\n",
    "\n",
    "    return (years, months)\n",
    "\n",
    "print(finnaVexti(13))\n",
    "print(finnaVexti(9))"
   ]
  },
  {
   "cell_type": "markdown",
   "metadata": {},
   "source": [
    "# c"
   ]
  },
  {
   "cell_type": "markdown",
   "metadata": {},
   "source": [
    "## 1"
   ]
  },
  {
   "cell_type": "code",
   "execution_count": 20,
   "metadata": {},
   "outputs": [
    {
     "name": "stdout",
     "output_type": "stream",
     "text": [
      "True\n",
      "False\n",
      "True\n"
     ]
    }
   ],
   "source": [
    "def kennitala(s):\n",
    "    kt = list(s)\n",
    "    for i in range(len(kt)):\n",
    "        kt[i] = int(kt[i])\n",
    "\n",
    "    check = sum(\n",
    "        [\n",
    "            kt[0] * 3,\n",
    "            kt[1] * 2,\n",
    "            kt[2] * 7,\n",
    "            kt[3] * 6,\n",
    "            kt[4] * 5,\n",
    "            kt[5] * 4,\n",
    "            kt[6] * 3,\n",
    "            kt[7] * 2,\n",
    "        ]\n",
    "    )\n",
    "\n",
    "    varat = check % 11\n",
    "    if (varat == 1): return False\n",
    "    \n",
    "    if (varat == 0 and kt[8] == 0): return True\n",
    "    elif (11-varat == kt[8]): return True\n",
    "    else: return False\n",
    "\n",
    "print(kennitala(\"9999999999\"))\n",
    "print(kennitala(\"8281249124\"))\n",
    "print(kennitala(\"0609013170\"))\n"
   ]
  },
  {
   "cell_type": "markdown",
   "metadata": {},
   "source": [
    "## 2"
   ]
  },
  {
   "cell_type": "code",
   "execution_count": 39,
   "metadata": {},
   "outputs": [
    {
     "name": "stdout",
     "output_type": "stream",
     "text": [
      "prófnúmer: 0176   kt: 2903993279   nafn: Sigrún Jónsdóttir               \n",
      "prófnúmer: 0542   kt: 1206972699   nafn: Kristín Fjóludóttir             \n",
      "prófnúmer: 0970   kt: 2605973109   nafn: Birta Lárusdóttir               \n",
      "prófnúmer: 1419   kt: 1210012330   nafn: Erla Ýr Guðnadóttir             \n",
      "prófnúmer: 4854   kt: 2308984059   nafn: Anton Ingi Þórsson              \n",
      "prófnúmer: 5469   kt: 1603903879   nafn: Íris María Birgisdóttir         \n",
      "prófnúmer: 6324   kt: 1309932659   nafn: Ívar Sigurðsson                 \n",
      "prófnúmer: 6558   kt: 1601013180   nafn: Ágúst Guðni Ingason             \n",
      "prófnúmer: 7923   kt: 2006002580   nafn: Steinunn Guðlaug Gunnarsdóttir  \n",
      "prófnúmer: 8003   kt: 1703012420   nafn: Eydís Þorsteinsdóttir           \n",
      "prófnúmer: 8148   kt: 2012012410   nafn: Signý Guðrún Pálsdóttir         \n",
      "prófnúmer: 9058   kt: 0704012830   nafn: Elías Ari Heimisson             \n",
      "prófnúmer: 9576   kt: 0403983099   nafn: Mark Johnson                    \n",
      "prófnúmer: 9595   kt: 2304003180   nafn: Víðir Kristjánsson              \n",
      "prófnúmer: 9706   kt: 0706012300   nafn: Jónas Valdimarsson              \n"
     ]
    }
   ],
   "source": [
    "import numpy as np\n",
    "f = \"https://cs.hi.is/python/kennitolur.txt\"\n",
    "data = np.loadtxt(f,skiprows=1, delimiter=',', dtype='str', encoding='UTF-8').T\n",
    "\n",
    "\n",
    "for i in range(len(data[0])):\n",
    "    print(f'prófnúmer: {data[1][i]:6} kt: {data[2][i]:12} nafn: {data[0][i]:32}')"
   ]
  },
  {
   "cell_type": "markdown",
   "metadata": {},
   "source": [
    "## 3"
   ]
  },
  {
   "cell_type": "code",
   "execution_count": 51,
   "metadata": {},
   "outputs": [
    {
     "name": "stdout",
     "output_type": "stream",
     "text": [
      "Aðilar með rangar kennitölur:\n",
      "prófnúmer: 9058   kt: 0704012830   nafn: Elías Ari Heimisson             \n"
     ]
    }
   ],
   "source": [
    "print(\"Aðilar með rangar kennitölur:\")\n",
    "for i in range(len(data[2])):\n",
    "    if not (kennitala(\"\"+data[2][i])):\n",
    "        print(f'prófnúmer: {data[1][i]:6} kt: {data[2][i]:12} nafn: {data[0][i]:32}')\n"
   ]
  },
  {
   "cell_type": "markdown",
   "metadata": {},
   "source": [
    "## 4"
   ]
  },
  {
   "cell_type": "code",
   "execution_count": 58,
   "metadata": {},
   "outputs": [
    {
     "name": "stdout",
     "output_type": "stream",
     "text": [
      "11. apríl      1918 kt: 2903993279\n",
      " 3. júlí       1916 kt: 1206972699\n",
      " 8. júní       1916 kt: 2605973109\n",
      " 3. febrúar    2001 kt: 1210012330\n",
      " 5. september  1917 kt: 2308984059\n",
      " 7. apríl      1909 kt: 1603903879\n",
      " 4. október    1912 kt: 1309932659\n",
      " 7. febrúar    2001 kt: 1601013180\n",
      " 2. júlí       2000 kt: 2006002580\n",
      " 8. apríl      2001 kt: 1703012420\n",
      " 2. apríl      2001 kt: 2012012410\n",
      " 7. maí        2001 kt: 0704012830\n",
      " 4. apríl      1917 kt: 0403983099\n",
      " 5. maí        2000 kt: 2304003180\n",
      " 7. júlí       2001 kt: 0706012300\n"
     ]
    }
   ],
   "source": [
    "m = ['janúar', 'febrúar', 'mars', 'apríl', 'maí', 'júní', 'júlí', 'ágúst', 'september', 'október', 'nóvember', 'desember']\n",
    "\n",
    "def afmaeli(kt, optional = \"\"):\n",
    "    kt = list(map(int,kt))\n",
    "    ar = 0\n",
    "    if (kt[4] == 0): ar = 2000\n",
    "    else: ar = 1900\n",
    "    print(f'{kt[0]+kt[1]:2}. {(m[kt[2]+kt[3]]):10} {ar+(kt[4]+kt[5])} {optional}')\n",
    "\n",
    "for i in data[2]:\n",
    "    afmaeli(i,(\",kt: \" + i))"
   ]
  }
 ],
 "metadata": {
  "interpreter": {
   "hash": "d81070026743709bb9828d5354e0a026335c39c8cec37d047fb4b5fc369d19fc"
  },
  "kernelspec": {
   "display_name": "Python 3.10.0 64-bit",
   "language": "python",
   "name": "python3"
  },
  "language_info": {
   "codemirror_mode": {
    "name": "ipython",
    "version": 3
   },
   "file_extension": ".py",
   "mimetype": "text/x-python",
   "name": "python",
   "nbconvert_exporter": "python",
   "pygments_lexer": "ipython3",
   "version": "3.10.0"
  },
  "orig_nbformat": 4
 },
 "nbformat": 4,
 "nbformat_minor": 2
}
