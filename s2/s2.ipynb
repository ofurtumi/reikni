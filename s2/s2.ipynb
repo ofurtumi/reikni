{
 "cells": [
  {
   "cell_type": "markdown",
   "metadata": {},
   "source": [
    "# 2B\n",
    "## Simpsons-regla"
   ]
  },
  {
   "cell_type": "markdown",
   "metadata": {},
   "source": [
    "---\n",
    "forrit sem nálgar heildi með Simpsons-reglunni"
   ]
  },
  {
   "cell_type": "code",
   "execution_count": 10,
   "metadata": {},
   "outputs": [
    {
     "name": "stdout",
     "output_type": "stream",
     "text": [
      "0.6593312109452117\n",
      "1.718318841921747\n"
     ]
    }
   ],
   "source": [
    "from math import sin,exp\n",
    "\n",
    "def f(x): return sin(x)/x       # *\n",
    "def g(x): return exp(x)         # **\n",
    "\n",
    "def simpsons(f,a,b,n):\n",
    "    deltax = (b-a)/n\n",
    "    flatarmal = f(a)+f(b)\n",
    "    xi = a+deltax\n",
    "    for i in range(n-1):        # nota i+1 inn í formúlunni því er ekki að notast 0\n",
    "        xi = a+((i+1)*deltax)\n",
    "        if (i+1) % 2 == 0:\n",
    "            flatarmal+=(2*f(xi))\n",
    "        else:\n",
    "            flatarmal+=(4*f(xi))\n",
    "\n",
    "    return flatarmal*(deltax/3)\n",
    "    \n",
    "print(simpsons(f,1,2,4))\n",
    "print(simpsons(g,0,1,4))\n"
   ]
  },
  {
   "cell_type": "markdown",
   "metadata": {},
   "source": [
    "# 3A\n",
    "## hitastigum breytt"
   ]
  },
  {
   "cell_type": "markdown",
   "metadata": {},
   "source": [
    "---\n",
    "Forrit sem býr til töflu með gildum fyrir gráður bæði í celcius og farenheit á bilinu [-30°c - 50°c] með 5°c bili"
   ]
  },
  {
   "cell_type": "code",
   "execution_count": 19,
   "metadata": {},
   "outputs": [
    {
     "name": "stdout",
     "output_type": "stream",
     "text": [
      "°c    °f\n",
      "--------\n",
      "-30  -22\n",
      "-25  -13\n",
      "-20   -4\n",
      "-15    5\n",
      "-10   14\n",
      " -5   23\n",
      "  0   32\n",
      "  5   41\n",
      " 10   50\n",
      " 15   59\n",
      " 20   68\n",
      " 25   77\n",
      " 30   86\n",
      " 35   95\n",
      " 40  104\n",
      " 45  113\n",
      "\n"
     ]
    }
   ],
   "source": [
    "def hitamunur():\n",
    "    tafla = '°c    °f\\n'\n",
    "    tafla += '--------\\n'\n",
    "    for i in range(16):\n",
    "        c = -30+(5*i)\n",
    "        f = ((9*c)//5)+32\n",
    "\n",
    "        tafla += f'{c:>3}  {f:>3}\\n'\n",
    "    print(tafla)\n",
    "hitamunur()"
   ]
  },
  {
   "cell_type": "markdown",
   "metadata": {},
   "source": [
    "# 3B\n",
    "## lograr og veldi"
   ]
  },
  {
   "cell_type": "markdown",
   "metadata": {},
   "source": [
    "---\n",
    "forrit sem reiknar fjóra logra"
   ]
  },
  {
   "cell_type": "code",
   "execution_count": 20,
   "metadata": {},
   "outputs": [
    {
     "name": "stdout",
     "output_type": "stream",
     "text": [
      "1. ln(1) = 0.0\n",
      "2. ln exp(3) = 3.0\n",
      "3. log10(1000) = 3.0\n",
      "4. log2(8) = 3.0\n"
     ]
    }
   ],
   "source": [
    "from math import log, log10, log2, exp\n",
    "\n",
    "print(f'1. ln(1) = {log(1)}')\n",
    "print(f'2. ln exp(3) = {log(exp(3))}')\n",
    "print(f'3. log10(1000) = {log10(1000)}')\n",
    "print(f'4. log2(8) = {log2(8)}')"
   ]
  },
  {
   "cell_type": "markdown",
   "metadata": {},
   "source": [
    "# 3C\n",
    "## rætur, lograr, kvaðröt"
   ]
  },
  {
   "cell_type": "markdown",
   "metadata": {},
   "source": [
    "---\n",
    "finnur rót, ln og annað veldi talnanna 1-10, fyrst með for-lykkju svo með while-lykkja"
   ]
  },
  {
   "cell_type": "code",
   "execution_count": 30,
   "metadata": {},
   "outputs": [
    {
     "name": "stdout",
     "output_type": "stream",
     "text": [
      "for-lykkja\n",
      " 1 rót: 1.00, ln: 0.00, x²:   1\n",
      " 2 rót: 1.41, ln: 0.69, x²:   4\n",
      " 3 rót: 1.73, ln: 1.10, x²:   9\n",
      " 4 rót: 2.00, ln: 1.39, x²:  16\n",
      " 5 rót: 2.24, ln: 1.61, x²:  25\n",
      " 6 rót: 2.45, ln: 1.79, x²:  36\n",
      " 7 rót: 2.65, ln: 1.95, x²:  49\n",
      " 8 rót: 2.83, ln: 2.08, x²:  64\n",
      " 9 rót: 3.00, ln: 2.20, x²:  81\n",
      "10 rót: 3.16, ln: 2.30, x²: 100\n",
      "\n",
      "while-lykkja\n",
      " 1 rót: 1.00, ln: 0.00, x²:   1\n",
      " 2 rót: 1.41, ln: 0.69, x²:   4\n",
      " 3 rót: 1.73, ln: 1.10, x²:   9\n",
      " 4 rót: 2.00, ln: 1.39, x²:  16\n",
      " 5 rót: 2.24, ln: 1.61, x²:  25\n",
      " 6 rót: 2.45, ln: 1.79, x²:  36\n",
      " 7 rót: 2.65, ln: 1.95, x²:  49\n",
      " 8 rót: 2.83, ln: 2.08, x²:  64\n",
      " 9 rót: 3.00, ln: 2.20, x²:  81\n",
      "10 rót: 3.16, ln: 2.30, x²: 100\n"
     ]
    }
   ],
   "source": [
    "from math import sqrt,log\n",
    "print(\"for-lykkja\")\n",
    "for i in range(10):\n",
    "    tala = i+1\n",
    "    print(f'{tala:2} rót: {sqrt(tala):3.2f}, ln: {log(tala):3.2f}, x²: {tala**2:3}')\n",
    "\n",
    "print(\"\\nwhile-lykkja\")\n",
    "i = 1\n",
    "while (i <= 10):\n",
    "    print(f'{i:2} rót: {sqrt(i):3.2f}, ln: {log(i):3.2f}, x²: {i**2:3}')\n",
    "    i+=1"
   ]
  },
  {
   "cell_type": "markdown",
   "metadata": {},
   "source": [
    "# 3D\n",
    "## rúmmál kúlu"
   ]
  },
  {
   "cell_type": "markdown",
   "metadata": {},
   "source": [
    "---\n",
    "3 föll til þess að reikna ýmis gildi, rúmmál kúlu, radíus hrings og þyngd útfrá eðlismassa og rúmmáli"
   ]
  },
  {
   "cell_type": "code",
   "execution_count": 39,
   "metadata": {},
   "outputs": [
    {
     "name": "stdout",
     "output_type": "stream",
     "text": [
      "33.510321638291124\n",
      "1.5915494309189535\n",
      "154.4\n",
      "Massi jarðarinnar er um það bil 5.9e+21 tonn\n"
     ]
    }
   ],
   "source": [
    "from math import pi\n",
    "def volSphere(radius):\n",
    "    Volume = (4/3)*pi*(radius**3)\n",
    "    return Volume\n",
    "\n",
    "def radCircle(circumference):   #c fyrir circumference\n",
    "    rad = circumference/(2*pi)\n",
    "    return rad\n",
    "\n",
    "def getMass(density,volume):\n",
    "    density = density * 1000 # breyta úr g/cm³ yfir í kg/m³\n",
    "    mass = density*volume\n",
    "    return mass\n",
    "\n",
    "# test prints\n",
    "print(volSphere(2))\n",
    "print(radCircle(10))\n",
    "print(getMass(19.3,0.008))\n",
    "\n",
    "radEarth = radCircle(40000000)\n",
    "volEarth = volSphere(radEarth)\n",
    "massEarth = getMass(5.5,volEarth)/1000\n",
    "print(f\"Massi jarðarinnar er um það bil {massEarth:.2} tonn\")"
   ]
  }
 ],
 "metadata": {
  "interpreter": {
   "hash": "d81070026743709bb9828d5354e0a026335c39c8cec37d047fb4b5fc369d19fc"
  },
  "kernelspec": {
   "display_name": "Python 3.10.0 64-bit",
   "language": "python",
   "name": "python3"
  },
  "language_info": {
   "codemirror_mode": {
    "name": "ipython",
    "version": 3
   },
   "file_extension": ".py",
   "mimetype": "text/x-python",
   "name": "python",
   "nbconvert_exporter": "python",
   "pygments_lexer": "ipython3",
   "version": "3.10.0"
  },
  "orig_nbformat": 4
 },
 "nbformat": 4,
 "nbformat_minor": 2
}
