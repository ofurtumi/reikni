{
 "cells": [
  {
   "cell_type": "markdown",
   "metadata": {},
   "source": [
    "# 3.1"
   ]
  },
  {
   "cell_type": "markdown",
   "metadata": {},
   "source": [
    "## Forrit sem reiknar Collatz-runur\n",
    "\n",
    "$n_{k+1} = 3n_k + 1$ ef $n$ er oddatala<br>\n",
    "$n_{k+1} = \\dfrac{n_k}{2}$ ef $n$ er slétt tala\n",
    "\n",
    "Ef nýja talan $n_{k+1} = 1$ þá er hætt að reikna.\n",
    "***"
   ]
  },
  {
   "cell_type": "code",
   "execution_count": 1,
   "metadata": {},
   "outputs": [
    {
     "name": "stdout",
     "output_type": "stream",
     "text": [
      "Nokkrar Collatz-runur\n",
      "runa: 2, 1\n",
      "runa: 3, 10, 5, 16, 8, 4, 2, 1\n",
      "runa: 4, 2, 1\n",
      "runa: 5, 16, 8, 4, 2, 1\n",
      "runa: 6, 3, 10, 5, 16, 8, 4, 2, 1\n",
      "runa: 7, 22, 11, 34, 17, 52, 26, 13, 40, 20, 10, 5, 16, 8, 4, 2, 1\n"
     ]
    }
   ],
   "source": [
    "# COLLATZ ÆFING\n",
    "def næsta(x):\n",
    "    '''skilar næstu tölu á eftir x í Collatz-runu'''\n",
    "    if x % 2 == 0:\n",
    "        f = x//2\n",
    "    else:\n",
    "        f = 3*x + 1\n",
    "    return f\n",
    "\n",
    "def collatz_runa(n):\n",
    "    '''finnur og skrifar út Collatz-runu sem byrjar á n'''\n",
    "    print('runa: ', end='')\n",
    "    while n > 1:\n",
    "        print(n, end=', ')\n",
    "        n = næsta(n)\n",
    "    print(n)\n",
    "\n",
    "# Forrit sem prentar út Collatz-runur sem byrja á 2, 3,...,7:\n",
    "print('Nokkrar Collatz-runur')\n",
    "for n0 in range(2,8):\n",
    "    collatz_runa(n0)"
   ]
  },
  {
   "cell_type": "code",
   "execution_count": 3,
   "metadata": {},
   "outputs": [
    {
     "name": "stdout",
     "output_type": "stream",
     "text": [
      "runa: 27, 82, 41, 124, 62, 31, 94, 47, 142, 71, 214, 107, 322, 161, 484, 242, 121, 364, 182, 91, 274, 137, 412, 206, 103, 310, 155, 466, 233, 700, 350, 175, 526, 263, 790, 395, 1186, 593, 1780, 890, 445, 1336, 668, 334, 167, 502, 251, 754, 377, 1132, 566, 283, 850, 425, 1276, 638, 319, 958, 479, 1438, 719, 2158, 1079, 3238, 1619, 4858, 2429, 7288, 3644, 1822, 911, 2734, 1367, 4102, 2051, 6154, 3077, 9232, 4616, 2308, 1154, 577, 1732, 866, 433, 1300, 650, 325, 976, 488, 244, 122, 61, 184, 92, 46, 23, 70, 35, 106, 53, 160, 80, 40, 20, 10, 5, 16, 8, 4, 2, 1\n"
     ]
    }
   ],
   "source": [
    "n0 = int(input(\"Sláið inn tölu til að byrja Collatz runu\"))\n",
    "collatz_runa(n0)"
   ]
  },
  {
   "cell_type": "markdown",
   "metadata": {},
   "source": [
    "# 4.2\n"
   ]
  },
  {
   "cell_type": "code",
   "execution_count": 10,
   "metadata": {},
   "outputs": [
    {
     "name": "stdout",
     "output_type": "stream",
     "text": [
      "1.75\n",
      "1\n",
      "2.0\n",
      "2\n"
     ]
    }
   ],
   "source": [
    "print(7/4)\n",
    "print(7//4)\n",
    "print(8/4)\n",
    "print(8//4)"
   ]
  },
  {
   "cell_type": "markdown",
   "metadata": {},
   "source": [
    "# 4.3"
   ]
  },
  {
   "cell_type": "code",
   "execution_count": 3,
   "metadata": {},
   "outputs": [
    {
     "name": "stdout",
     "output_type": "stream",
     "text": [
      "10 7 True False\n"
     ]
    }
   ],
   "source": [
    "x = 5\n",
    "p = x == 5\n",
    "q = x == 6\n",
    "x += 2\n",
    "y = 10\n",
    "(x,y) = (y,x)\n",
    "print(x,y,p,q)"
   ]
  },
  {
   "cell_type": "markdown",
   "metadata": {},
   "source": [
    "# 4.4"
   ]
  },
  {
   "cell_type": "code",
   "execution_count": 6,
   "metadata": {},
   "outputs": [
    {
     "ename": "ValueError",
     "evalue": "could not convert string to float: 'hundrað'",
     "output_type": "error",
     "traceback": [
      "\u001b[0;31m---------------------------------------------------------------------------\u001b[0m",
      "\u001b[0;31mValueError\u001b[0m                                Traceback (most recent call last)",
      "Input \u001b[0;32mIn [6]\u001b[0m, in \u001b[0;36m<module>\u001b[0;34m\u001b[0m\n\u001b[1;32m      1\u001b[0m s \u001b[38;5;241m=\u001b[39m \u001b[38;5;28minput\u001b[39m(\u001b[38;5;124m'\u001b[39m\u001b[38;5;124mSláðu inn tölu: \u001b[39m\u001b[38;5;124m'\u001b[39m)\n\u001b[0;32m----> 2\u001b[0m t \u001b[38;5;241m=\u001b[39m \u001b[38;5;28;43mfloat\u001b[39;49m\u001b[43m(\u001b[49m\u001b[43ms\u001b[49m\u001b[43m)\u001b[49m\n\u001b[1;32m      3\u001b[0m \u001b[38;5;28mprint\u001b[39m(t)\n",
      "\u001b[0;31mValueError\u001b[0m: could not convert string to float: 'hundrað'"
     ]
    }
   ],
   "source": [
    "s = input('Sláðu inn tölu: ')\n",
    "t = float(s)\n",
    "print(t)"
   ]
  },
  {
   "cell_type": "code",
   "execution_count": 8,
   "metadata": {},
   "outputs": [
    {
     "name": "stdout",
     "output_type": "stream",
     "text": [
      "2 AB\n"
     ]
    },
    {
     "data": {
      "text/plain": [
       "4"
      ]
     },
     "metadata": {},
     "output_type": "display_data"
    },
    {
     "data": {
      "text/plain": [
       "'ABAB'"
      ]
     },
     "metadata": {},
     "output_type": "display_data"
    }
   ],
   "source": [
    "x = 2\n",
    "s = \"AB\"\n",
    "print(x, s)\n",
    "display(x*2, s*2)"
   ]
  },
  {
   "cell_type": "markdown",
   "metadata": {},
   "source": [
    "# 4.5"
   ]
  }
 ],
 "metadata": {
  "interpreter": {
   "hash": "d81070026743709bb9828d5354e0a026335c39c8cec37d047fb4b5fc369d19fc"
  },
  "kernelspec": {
   "display_name": "Python 3.10.0 64-bit",
   "language": "python",
   "name": "python3"
  },
  "language_info": {
   "codemirror_mode": {
    "name": "ipython",
    "version": 3
   },
   "file_extension": ".py",
   "mimetype": "text/x-python",
   "name": "python",
   "nbconvert_exporter": "python",
   "pygments_lexer": "ipython3",
   "version": "3.10.0"
  },
  "orig_nbformat": 4
 },
 "nbformat": 4,
 "nbformat_minor": 2
}
