{
 "cells": [
  {
   "cell_type": "markdown",
   "metadata": {},
   "source": [
    "# 10 skrá með íslenskum orðum"
   ]
  },
  {
   "cell_type": "markdown",
   "metadata": {},
   "source": [
    "## a)"
   ]
  },
  {
   "cell_type": "code",
   "execution_count": 54,
   "metadata": {},
   "outputs": [
    {
     "name": "stdout",
     "output_type": "stream",
     "text": [
      "abba abbadís abbadísar abbadísarinnar abbadísartíð \n",
      "  3512 alþjóðaheilbrigðisstofnunarinnar\n",
      "  3574 alþjóðasiglingamálastofnunarinnar\n",
      "  5822 atvinnuleysistryggingasjóðurinn\n",
      " 10000 barónessunni\n",
      " 20000 bókmenntaheimurinn\n",
      " 30000 eldvarpa\n",
      " 39136 flugslysarannsóknarnefndarinnar\n",
      " 40000 flögrað\n",
      " 50000 galdrakerlingin\n",
      " 60000 hafnarverkamannsins\n",
      " 70000 hnýtta\n",
      " 80000 illkvittnislega\n",
      " 90000 konunglegan\n",
      "100000 leiðbeiningu\n",
      "110000 margnefndi\n",
      "120000 nemann\n",
      "121142 norðuratlantshafssjávarspendýraráðsins\n",
      "121175 norðurheimskautsrannsóknaráðsins\n",
      "130000 ramman\n",
      "140000 sandhólum\n",
      "150000 skynsemd\n",
      "160000 stjórnarþátttöku\n",
      "170000 sólarhofsins\n",
      "172917 teiknimyndaævintýrapoppálfkonan\n",
      "180000 tötralegum\n",
      "190000 veðurratsjá\n",
      "200000 árásargjörn\n",
      "210000 útdauðar\n"
     ]
    }
   ],
   "source": [
    "from urllib.request import urlopen\n",
    "f = urlopen(\"https://cs.hi.is/python/ord.txt\")\n",
    "\n",
    "ordList = []\n",
    "\n",
    "for line in f:\n",
    "   ord = line.decode().strip()\n",
    "   ordList.append(ord)\n",
    "\n",
    "fyrstufimm = \"\"\n",
    "for i in range(5):\n",
    "    fyrstufimm += ordList[i] + \" \"\n",
    "\n",
    "print(fyrstufimm)\n",
    "\n",
    "for count,i in enumerate(ordList,1):\n",
    "    if count % 10000 == 0 or len(i) > 30:\n",
    "        print(f'{count:6}', i)"
   ]
  },
  {
   "cell_type": "markdown",
   "metadata": {},
   "source": [
    "## b)"
   ]
  },
  {
   "cell_type": "code",
   "execution_count": 55,
   "metadata": {},
   "outputs": [
    {
     "name": "stdout",
     "output_type": "stream",
     "text": [
      "abba afa aga agga aka ala alla ama amma ana \n",
      "apa argra assa ata axa aða gíg gýg illi inni \n",
      "iðaði iði kajak kok kák kæk kók kúk mm muninum \n",
      "munnum munum mununum mussum natan nón píp rabbar radar raddar \n",
      "rafar ragar rakar rakkar rammar rappar rasar rassar ratar raðar \n",
      "rifir riðir ruddur rullur rumur runur rár rær rór rör \n",
      "rýr sinnis stúts summus sás talat tillit tæt uku ullu \n",
      "undnu unnu unu uxu á æ í ísí ó óbó \n"
     ]
    }
   ],
   "source": [
    "def spegill(ord):\n",
    "    ord = ord.lower()\n",
    "    speglad = ord[::-1]\n",
    "    if ord == speglad:\n",
    "        return True\n",
    "    return False\n",
    "\n",
    "counter = 0\n",
    "strout = \"\"\n",
    "for i in ordList:\n",
    "    if spegill(i):\n",
    "        strout+= i + \" \"\n",
    "        counter += 1\n",
    "        if counter == 10:\n",
    "            print(strout)\n",
    "            counter = 0\n",
    "            strout = \"\""
   ]
  },
  {
   "cell_type": "markdown",
   "metadata": {},
   "source": [
    "# 11 fjöldi stafa í skrafli"
   ]
  },
  {
   "cell_type": "code",
   "execution_count": 56,
   "metadata": {},
   "outputs": [
    {
     "name": "stdout",
     "output_type": "stream",
     "text": [
      "abbaabbadísabbadísarabbadísarinnarabbadí\n",
      "stafur  tíðni   fjöldi  \n",
      "-----------------------\n",
      "a        10.20       10\n",
      "á        1.02         1\n",
      "b        1.02         1\n",
      "c        0.00         0\n",
      "d        2.04         2\n",
      "ð        3.06         3\n",
      "e        4.08         4\n",
      "é        0.00         0\n",
      "f        3.06         3\n",
      "g        4.08         4\n",
      "h        2.04         2\n",
      "i        7.14         7\n",
      "í        1.02         1\n",
      "j        1.02         1\n",
      "k        4.08         4\n",
      "l        6.12         6\n",
      "m        3.06         3\n",
      "n        9.18         9\n",
      "o        1.02         1\n",
      "ó        1.02         1\n",
      "p        1.02         1\n",
      "q        0.00         0\n",
      "r        9.18         9\n",
      "s        6.12         6\n",
      "t        5.10         5\n",
      "u        6.12         6\n",
      "ú        1.02         1\n",
      "v        2.04         2\n",
      "w        0.00         0\n",
      "x        0.00         0\n",
      "y        1.02         1\n",
      "ý        0.00         0\n",
      "z        0.00         0\n",
      "þ        0.00         0\n",
      "æ        1.02         1\n",
      "ö        1.02         1\n"
     ]
    }
   ],
   "source": [
    "ollord = \"\".join(ordList)\n",
    "print(ollord[:40])\n",
    "stafrof = list(map(str,\"aábcdðeéfghiíjklmnoópqrstuúvwxyýzþæö\"))\n",
    "n = len(ollord)\n",
    "\n",
    "data = []\n",
    "\n",
    "for s in stafrof:\n",
    "    ta = ollord.count(s)/n\n",
    "    fjoldi = round(ta*98)\n",
    "    skraflTidni = (fjoldi/98)*100\n",
    "    data.append((s,skraflTidni,fjoldi))\n",
    "\n",
    "print(f'{\"stafur\":8}{\"tíðni\":8}{\"fjöldi\":8}')\n",
    "print(\"-----------------------\")\n",
    "for i in data:\n",
    "    print(f'{i[0]:<8}{i[1]:^7.2f}{i[2]:>8}')"
   ]
  },
  {
   "cell_type": "markdown",
   "metadata": {},
   "source": [
    "# 17 fallteikning"
   ]
  },
  {
   "cell_type": "markdown",
   "metadata": {},
   "source": [
    "## a)"
   ]
  },
  {
   "cell_type": "code",
   "execution_count": 57,
   "metadata": {},
   "outputs": [
    {
     "name": "stdout",
     "output_type": "stream",
     "text": [
      "24\n"
     ]
    }
   ],
   "source": [
    "def f(x):\n",
    "    return (x+3)*(x+2)*x*(x-2)*(x-3)\n",
    "\n",
    "print(f(1))"
   ]
  },
  {
   "cell_type": "markdown",
   "metadata": {},
   "source": [
    "## b)"
   ]
  },
  {
   "cell_type": "code",
   "execution_count": 58,
   "metadata": {},
   "outputs": [
    {
     "name": "stdout",
     "output_type": "stream",
     "text": [
      "\n"
     ]
    },
    {
     "data": {
      "image/png": "[encoded data removed]",
      "text/plain": [
       "<Figure size 2160x432 with 1 Axes>"
      ]
     },
     "metadata": {
      "needs_background": "light"
     },
     "output_type": "display_data"
    }
   ],
   "source": [
    "import matplotlib.pyplot as plt\n",
    "\n",
    "def f(x):\n",
    "    return (x+3)*(x+2)*x*(x-2)*(x-3)\n",
    "\n",
    "def linspace(a,b):\n",
    "   return [a + (b-a)*i/200 for i in range(201)]\n",
    "\n",
    "x = linspace(-3.4,3.4)\n",
    "y = [f(xi) for xi in x]\n",
    "\n",
    "hnit = []\n",
    "listi = []\n",
    "for (num,i) in enumerate(x,0):\n",
    "\n",
    "    if num % 5 == 0: \n",
    "        hnit.append(i)\n",
    "        listi.append(f'{i:.2f}')\n",
    "        # listi.append(\"3\")\n",
    "\n",
    "plt.figure(figsize=(30,6))\n",
    "plt.grid(True)\n",
    "plt.xlim(-3.4,3.4)\n",
    "plt.ylim(-70,40)\n",
    "plt.xticks(hnit,listi)\n",
    "\n",
    "plt.plot(x,y,color=\"tomato\",linewidth=5)\n",
    "print()"
   ]
  }
 ],
 "metadata": {
  "interpreter": {
   "hash": "d81070026743709bb9828d5354e0a026335c39c8cec37d047fb4b5fc369d19fc"
  },
  "kernelspec": {
   "display_name": "Python 3.10.0 64-bit",
   "language": "python",
   "name": "python3"
  },
  "language_info": {
   "codemirror_mode": {
    "name": "ipython",
    "version": 3
   },
   "file_extension": ".py",
   "mimetype": "text/x-python",
   "name": "python",
   "nbconvert_exporter": "python",
   "pygments_lexer": "ipython3",
   "version": "3.10.0"
  },
  "orig_nbformat": 4
 },
 "nbformat": 4,
 "nbformat_minor": 2
}
