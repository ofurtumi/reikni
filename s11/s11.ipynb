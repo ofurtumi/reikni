{
 "cells": [
  {
   "cell_type": "markdown",
   "metadata": {},
   "source": [
    "# VV4"
   ]
  },
  {
   "cell_type": "markdown",
   "metadata": {},
   "source": [
    "## C"
   ]
  },
  {
   "cell_type": "markdown",
   "metadata": {},
   "source": [
    "### a)"
   ]
  },
  {
   "cell_type": "markdown",
   "metadata": {},
   "source": [
    "* $D_x(x^2+y)^6+e^{y-x}$\n",
    "* $\\frac{\\delta}{\\delta x}(e^{-x+y})+\\frac{\\delta}{\\delta x}(x^2+y)^6$\n",
    "* KEÐJUREGLAN\n",
    "* $\\frac{\\delta}{\\delta x}(x^2+y)^6+(e^{-x+y}(\\frac{\\delta}{\\delta x}(-x+y))$\n",
    "* SKIPTA SAMLAGANINGU NÐUR Í BÚTA\n",
    "* $\\frac{\\delta}{\\delta x}(x^2+y)^6+(-(\\frac{\\delta}{\\delta x}(x))+\\frac{\\delta}{\\delta x}(y))$\n",
    "* $\\frac{\\delta}{\\delta x}(x^2+y)^6+(-(1)+\\frac{\\delta}{\\delta x}(y))$\n",
    "* $\\frac{\\delta}{\\delta x}(x^2+y)^6+(-(1)+0)$\n",
    "* $-e^{-x+y}+\\frac{\\delta}{\\delta x}(x^2+y)^6$\n",
    "* OKOK KEÐJUREGLA AFTUR\n",
    "* $-e^{-x+y}+(6(x^2+y)^5(\\frac{\\delta}{\\delta x}(x^2+y))$\n",
    "* SKIPTA NIÐUR\n",
    "* $-e^{-x+y}+(6(x^2+y)^5(\\frac{\\delta}{\\delta x}(x^2)+\\frac{\\delta}{\\delta x}(y))$\n",
    "* $-e^{-x+y}+(6(x^2+y)^5(2x+\\frac{\\delta}{\\delta x}(y))$\n",
    "* $-e^{-x+y}+(6(x^2+y)^5(2x+0)$\n",
    "* EINFALDA\n",
    "* $-e^{y-x}+12(x^2+y)^5$\n",
    "\n",
    "**LOKASVAR: $-e^{y-x}+12(x^2+y)^5$**"
   ]
  },
  {
   "cell_type": "markdown",
   "metadata": {},
   "source": [
    "### b)"
   ]
  },
  {
   "cell_type": "markdown",
   "metadata": {},
   "source": [
    "finnum fyrst $f_x$ og $f_y$\n",
    "* $f_x: 3x^2+y$\n",
    "* $f_y: -3y^2+x$\n",
    "\n",
    "þá er ég með $\\nabla f(x,y) = (\\binom{3x^2+y}{-3y^2+x})$"
   ]
  },
  {
   "cell_type": "markdown",
   "metadata": {},
   "source": [
    "### c)"
   ]
  },
  {
   "cell_type": "markdown",
   "metadata": {},
   "source": [
    "þar sem $f=x^3+xy-y^3$ er auðvelt að finna að $f(1,2)=1+2+8=11$\n",
    "\n",
    "nú vitum við líka $\\nabla f(x,y) = (\\binom{3x^2+y}{-3y^2+x})$ þannig $\\nabla f(1,2) = (\\binom{5}{11})$\n",
    "\n",
    "setjum inn í margvíðu Taylor-setninguna: $f(1,2)+\\nabla f(1,2)*(x-(1,2))=11+\\binom{5}{11}*(x_1-1,x_2-2)=5x_1+11x_2$"
   ]
  },
  {
   "cell_type": "markdown",
   "metadata": {},
   "source": [
    "## E"
   ]
  },
  {
   "cell_type": "markdown",
   "metadata": {},
   "source": [
    "### a)"
   ]
  },
  {
   "cell_type": "code",
   "execution_count": null,
   "metadata": {},
   "outputs": [],
   "source": [
    "import numpy as np\n",
    "import numpy.linalg as la\n",
    "\n",
    "upph = np.array([1000,600,400])\n",
    "leslie = np.array([\n",
    "    [0.2,0.6,0.8],\n",
    "    [0.8,0.0,0.0],\n",
    "    [0.0,0.5,0.0]\n",
    "])"
   ]
  },
  {
   "cell_type": "markdown",
   "metadata": {},
   "source": [
    "### b)"
   ]
  },
  {
   "cell_type": "code",
   "execution_count": null,
   "metadata": {},
   "outputs": [
    {
     "name": "stdout",
     "output_type": "stream",
     "text": [
      "1980.0\n"
     ]
    }
   ],
   "source": [
    "sea = sum(la.matrix_power(leslie,1)@upph)\n",
    "print(sea)"
   ]
  },
  {
   "cell_type": "markdown",
   "metadata": {},
   "source": [
    "### c)"
   ]
  },
  {
   "cell_type": "markdown",
   "metadata": {},
   "source": [
    "#### test nr. 1\n",
    "fyrsta hugmyndin mín var að brute forcea þetta með while-lykkju, á meðan stofninn er stærri en 100, halda áfram. Lykkjan var ennþá að ganga eftir mínútu svo sú lausn gekk ekki upp."
   ]
  },
  {
   "cell_type": "code",
   "execution_count": null,
   "metadata": {},
   "outputs": [],
   "source": [
    "j = 1\n",
    "while(sum(la.matrix_power(leslie,j)@upph) > 100): j=+1"
   ]
  },
  {
   "cell_type": "markdown",
   "metadata": {},
   "source": [
    "#### test nr.2 \n",
    "önnur hugmyndin var byggð á útkomuni úr test nr. 1. Svo virðist vera sem stofninn minnki ekki niður fyrir 100 í býsna langann tíma afh er það?"
   ]
  },
  {
   "cell_type": "code",
   "execution_count": null,
   "metadata": {},
   "outputs": [
    {
     "name": "stdout",
     "output_type": "stream",
     "text": [
      "[1980.0, 1992.452830188685, 1992.4528301886908, 1992.4528301886962, 1992.4528301887021, 1992.4528301887076, 1992.4528301887133, 1992.452830188719, 1992.4528301887246, 1992.4528301887303]\n"
     ]
    }
   ],
   "source": [
    "years = [sum(la.matrix_power(leslie,i)@upph) for i in range(1,1000,100)]\n",
    "print(years)"
   ]
  },
  {
   "cell_type": "markdown",
   "metadata": {},
   "source": [
    "Eins og sést, eftir fyrstu 100 árin er stofninn búinn að ná jafnvægi, ~1992.45 þá má með fullri vissu segja að stofninn mun ekki deyja út, bara til gamans þá plotta ég fyrstu 100 árin"
   ]
  },
  {
   "cell_type": "code",
   "execution_count": null,
   "metadata": {},
   "outputs": [
    {
     "data": {
      "image/png": "[encoded data removed]",
      "text/plain": [
       "<Figure size 1440x360 with 1 Axes>"
      ]
     },
     "metadata": {
      "needs_background": "light"
     },
     "output_type": "display_data"
    }
   ],
   "source": [
    "import matplotlib.pyplot as plt\n",
    "\n",
    "stofn = [sum(la.matrix_power(leslie,i)@upph) for i in range (11)]\n",
    "years = [j for j in range(11)]\n",
    "\n",
    "plt.figure(figsize=(20,5))\n",
    "plt.plot(years,stofn)\n",
    "plt.xticks(years)\n",
    "plt.grid(True)\n",
    "plt.xlabel('Ár')\n",
    "plt.ylabel('Stofnfjöldi')\n",
    "plt.show()"
   ]
  },
  {
   "cell_type": "markdown",
   "metadata": {},
   "source": [
    "upprunalega var grafið upp í 100 ár en fjöldinn var orðinn stabíll eftir 10 þannig ég stytti skalann til að gera lesanlegra"
   ]
  }
 ],
 "metadata": {
  "interpreter": {
   "hash": "d81070026743709bb9828d5354e0a026335c39c8cec37d047fb4b5fc369d19fc"
  },
  "kernelspec": {
   "display_name": "Python 3.10.0 64-bit",
   "language": "python",
   "name": "python3"
  },
  "language_info": {
   "codemirror_mode": {
    "name": "ipython",
    "version": 3
   },
   "file_extension": ".py",
   "mimetype": "text/x-python",
   "name": "python",
   "nbconvert_exporter": "python",
   "pygments_lexer": "ipython3",
   "version": "3.10.0"
  },
  "orig_nbformat": 4
 },
 "nbformat": 4,
 "nbformat_minor": 2
}
