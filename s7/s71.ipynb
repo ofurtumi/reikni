{
 "cells": [
  {
   "cell_type": "markdown",
   "metadata": {},
   "source": [
    "# 25 reikningar með numpy"
   ]
  },
  {
   "cell_type": "markdown",
   "metadata": {},
   "source": [
    "## setup"
   ]
  },
  {
   "cell_type": "code",
   "execution_count": null,
   "metadata": {},
   "outputs": [],
   "source": [
    "import numpy as np\n",
    "import numpy.linalg as la\n",
    "from math import pow\n",
    "\n",
    "a = np.array([ 3, 2, 8])\n",
    "b = np.array([ 2, 0, 1])\n",
    "c = np.array([-2, 1, 5])\n",
    "\n",
    "A = np.array([\n",
    "    [2,4,7],\n",
    "    [3,4,8],\n",
    "    [4,6,9]\n",
    "])\n",
    "\n",
    "B = np.array([\n",
    "    [5,5,5],\n",
    "    [6,6,6],\n",
    "    [7,8,9]\n",
    "])"
   ]
  },
  {
   "cell_type": "markdown",
   "metadata": {},
   "source": [
    "## 1"
   ]
  },
  {
   "cell_type": "markdown",
   "metadata": {},
   "source": [
    "### a)"
   ]
  },
  {
   "cell_type": "code",
   "execution_count": 4,
   "metadata": {},
   "outputs": [
    {
     "name": "stdout",
     "output_type": "stream",
     "text": [
      "[[7.21716124 0.         6.47854845]\n",
      " [7.46059349 0.         6.17425814]\n",
      " [7.70402573 0.         5.26138721]]\n"
     ]
    }
   ],
   "source": [
    "aOut = (a * b) - ((c * (B * b)) / (3 * la.norm(c)))\n",
    "print(aOut)"
   ]
  },
  {
   "cell_type": "markdown",
   "metadata": {},
   "source": [
    "### b)"
   ]
  },
  {
   "cell_type": "code",
   "execution_count": 8,
   "metadata": {},
   "outputs": [
    {
     "name": "stdout",
     "output_type": "stream",
     "text": [
      "[[ -54  112  348]\n",
      " [ -80  160  504]\n",
      " [-112  288 1080]]\n"
     ]
    }
   ],
   "source": [
    "bOut = 2 * ((A.T) + (B ** 2)) * (a - (2 * b))\n",
    "print(bOut)"
   ]
  },
  {
   "cell_type": "markdown",
   "metadata": {},
   "source": [
    "### c)"
   ]
  },
  {
   "cell_type": "code",
   "execution_count": 10,
   "metadata": {},
   "outputs": [
    {
     "name": "stdout",
     "output_type": "stream",
     "text": [
      "10.000000000000002\n",
      "[[0.5        0.25       0.14285714]\n",
      " [0.33333333 0.25       0.125     ]\n",
      " [0.25       0.16666667 0.11111111]]\n"
     ]
    }
   ],
   "source": [
    "cOut1 = la.det(A)\n",
    "cOut2 = 1 / A # x⁻¹ == 1/x\n",
    "\n",
    "print(cOut1)\n",
    "print(cOut2)"
   ]
  },
  {
   "cell_type": "markdown",
   "metadata": {},
   "source": [
    "### d)"
   ]
  },
  {
   "cell_type": "code",
   "execution_count": 13,
   "metadata": {},
   "outputs": [
    {
     "name": "stdout",
     "output_type": "stream",
     "text": [
      "[-2.   1.5  0. ]\n"
     ]
    }
   ],
   "source": [
    "# hneppi = np.array([A,1])\n",
    "reiknad = la.solve(A,b)\n",
    "print(reiknad)"
   ]
  },
  {
   "cell_type": "markdown",
   "metadata": {},
   "source": [
    "### e)"
   ]
  },
  {
   "cell_type": "code",
   "execution_count": 14,
   "metadata": {},
   "outputs": [
    {
     "name": "stdout",
     "output_type": "stream",
     "text": [
      "[11. 12.]\n"
     ]
    }
   ],
   "source": [
    "# 10x + 5y = 170\n",
    "# x + y = 23\n",
    "\n",
    "hneppi = np.array([[10,5],[1,1]])\n",
    "utkoma = np.array([170,23])\n",
    "reiknad = la.solve(hneppi,utkoma)\n",
    "print(reiknad)"
   ]
  },
  {
   "cell_type": "markdown",
   "metadata": {},
   "source": [
    "## 2"
   ]
  },
  {
   "cell_type": "code",
   "execution_count": 18,
   "metadata": {},
   "outputs": [
    {
     "ename": "LinAlgError",
     "evalue": "1-dimensional array given. Array must be at least two-dimensional",
     "output_type": "error",
     "traceback": [
      "\u001b[0;31m---------------------------------------------------------------------------\u001b[0m",
      "\u001b[0;31mLinAlgError\u001b[0m                               Traceback (most recent call last)",
      "\u001b[1;32m/home/tumi/Documents/reikni/s7/s7.ipynb Cell 16'\u001b[0m in \u001b[0;36m<module>\u001b[0;34m\u001b[0m\n\u001b[1;32m      <a href='vscode-notebook-cell:/home/tumi/Documents/reikni/s7/s7.ipynb#ch0000019?line=6'>7</a>\u001b[0m             utkoma \u001b[39m=\u001b[39m np\u001b[39m.\u001b[39marray([\u001b[39m2\u001b[39m])\n\u001b[1;32m      <a href='vscode-notebook-cell:/home/tumi/Documents/reikni/s7/s7.ipynb#ch0000019?line=7'>8</a>\u001b[0m             \u001b[39mprint\u001b[39m(la\u001b[39m.\u001b[39msolve(hneppi,utkoma))\n\u001b[0;32m----> <a href='vscode-notebook-cell:/home/tumi/Documents/reikni/s7/s7.ipynb#ch0000019?line=8'>9</a>\u001b[0m out \u001b[39m=\u001b[39m jafna(\u001b[39m4\u001b[39;49m)\n\u001b[1;32m     <a href='vscode-notebook-cell:/home/tumi/Documents/reikni/s7/s7.ipynb#ch0000019?line=9'>10</a>\u001b[0m \u001b[39mprint\u001b[39m(out)\n",
      "\u001b[1;32m/home/tumi/Documents/reikni/s7/s7.ipynb Cell 16'\u001b[0m in \u001b[0;36mjafna\u001b[0;34m(n)\u001b[0m\n\u001b[1;32m      <a href='vscode-notebook-cell:/home/tumi/Documents/reikni/s7/s7.ipynb#ch0000019?line=5'>6</a>\u001b[0m hneppi \u001b[39m=\u001b[39m np\u001b[39m.\u001b[39marray([i\u001b[39m-\u001b[39mj,\u001b[39m1\u001b[39m])\n\u001b[1;32m      <a href='vscode-notebook-cell:/home/tumi/Documents/reikni/s7/s7.ipynb#ch0000019?line=6'>7</a>\u001b[0m utkoma \u001b[39m=\u001b[39m np\u001b[39m.\u001b[39marray([\u001b[39m2\u001b[39m])\n\u001b[0;32m----> <a href='vscode-notebook-cell:/home/tumi/Documents/reikni/s7/s7.ipynb#ch0000019?line=7'>8</a>\u001b[0m \u001b[39mprint\u001b[39m(la\u001b[39m.\u001b[39;49msolve(hneppi,utkoma))\n",
      "File \u001b[0;32m<__array_function__ internals>:180\u001b[0m, in \u001b[0;36msolve\u001b[0;34m(*args, **kwargs)\u001b[0m\n",
      "File \u001b[0;32m~/.local/lib/python3.10/site-packages/numpy/linalg/linalg.py:379\u001b[0m, in \u001b[0;36msolve\u001b[0;34m(a, b)\u001b[0m\n\u001b[1;32m    <a href='file:///~/.local/lib/python3.10/site-packages/numpy/linalg/linalg.py?line=314'>315</a>\u001b[0m \u001b[39m\"\"\"\u001b[39;00m\n\u001b[1;32m    <a href='file:///~/.local/lib/python3.10/site-packages/numpy/linalg/linalg.py?line=315'>316</a>\u001b[0m \u001b[39mSolve a linear matrix equation, or system of linear scalar equations.\u001b[39;00m\n\u001b[1;32m    <a href='file:///~/.local/lib/python3.10/site-packages/numpy/linalg/linalg.py?line=316'>317</a>\u001b[0m \n\u001b[0;32m   (...)\u001b[0m\n\u001b[1;32m    <a href='file:///~/.local/lib/python3.10/site-packages/numpy/linalg/linalg.py?line=375'>376</a>\u001b[0m \n\u001b[1;32m    <a href='file:///~/.local/lib/python3.10/site-packages/numpy/linalg/linalg.py?line=376'>377</a>\u001b[0m \u001b[39m\"\"\"\u001b[39;00m\n\u001b[1;32m    <a href='file:///~/.local/lib/python3.10/site-packages/numpy/linalg/linalg.py?line=377'>378</a>\u001b[0m a, _ \u001b[39m=\u001b[39m _makearray(a)\n\u001b[0;32m--> <a href='file:///~/.local/lib/python3.10/site-packages/numpy/linalg/linalg.py?line=378'>379</a>\u001b[0m _assert_stacked_2d(a)\n\u001b[1;32m    <a href='file:///~/.local/lib/python3.10/site-packages/numpy/linalg/linalg.py?line=379'>380</a>\u001b[0m _assert_stacked_square(a)\n\u001b[1;32m    <a href='file:///~/.local/lib/python3.10/site-packages/numpy/linalg/linalg.py?line=380'>381</a>\u001b[0m b, wrap \u001b[39m=\u001b[39m _makearray(b)\n",
      "File \u001b[0;32m~/.local/lib/python3.10/site-packages/numpy/linalg/linalg.py:196\u001b[0m, in \u001b[0;36m_assert_stacked_2d\u001b[0;34m(*arrays)\u001b[0m\n\u001b[1;32m    <a href='file:///~/.local/lib/python3.10/site-packages/numpy/linalg/linalg.py?line=193'>194</a>\u001b[0m \u001b[39mfor\u001b[39;00m a \u001b[39min\u001b[39;00m arrays:\n\u001b[1;32m    <a href='file:///~/.local/lib/python3.10/site-packages/numpy/linalg/linalg.py?line=194'>195</a>\u001b[0m     \u001b[39mif\u001b[39;00m a\u001b[39m.\u001b[39mndim \u001b[39m<\u001b[39m \u001b[39m2\u001b[39m:\n\u001b[0;32m--> <a href='file:///~/.local/lib/python3.10/site-packages/numpy/linalg/linalg.py?line=195'>196</a>\u001b[0m         \u001b[39mraise\u001b[39;00m LinAlgError(\u001b[39m'\u001b[39m\u001b[39m%d\u001b[39;00m\u001b[39m-dimensional array given. Array must be \u001b[39m\u001b[39m'\u001b[39m\n\u001b[1;32m    <a href='file:///~/.local/lib/python3.10/site-packages/numpy/linalg/linalg.py?line=196'>197</a>\u001b[0m                 \u001b[39m'\u001b[39m\u001b[39mat least two-dimensional\u001b[39m\u001b[39m'\u001b[39m \u001b[39m%\u001b[39m a\u001b[39m.\u001b[39mndim)\n",
      "\u001b[0;31mLinAlgError\u001b[0m: 1-dimensional array given. Array must be at least two-dimensional"
     ]
    }
   ],
   "source": [
    "def jafna(n):\n",
    "    A = np.zeros((n,n))\n",
    "    b = np.zeros(n)\n",
    "    for i in range(n-1):\n",
    "        A[,(j,i)] = [1,(i-j)]\n",
    "\n",
    "out = jafna(4)\n",
    "print(out)\n"
   ]
  }
 ],
 "metadata": {
  "interpreter": {
   "hash": "d81070026743709bb9828d5354e0a026335c39c8cec37d047fb4b5fc369d19fc"
  },
  "kernelspec": {
   "display_name": "Python 3.10.0 64-bit",
   "language": "python",
   "name": "python3"
  },
  "language_info": {
   "codemirror_mode": {
    "name": "ipython",
    "version": 3
   },
   "file_extension": ".py",
   "mimetype": "text/x-python",
   "name": "python",
   "nbconvert_exporter": "python",
   "pygments_lexer": "ipython3",
   "version": "3.10.0"
  },
  "orig_nbformat": 4
 },
 "nbformat": 4,
 "nbformat_minor": 2
}
