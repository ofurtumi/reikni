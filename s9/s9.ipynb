{
 "cells": [
  {
   "cell_type": "markdown",
   "metadata": {},
   "source": [
    "# 34 póker"
   ]
  },
  {
   "cell_type": "code",
   "execution_count": 30,
   "metadata": {},
   "outputs": [
    {
     "name": "stdout",
     "output_type": "stream",
     "text": [
      "Hlutfall með tvær tvennur: 4.7%\n"
     ]
    }
   ],
   "source": [
    "from random import sample\n",
    "\n",
    "def pókerhönd():\n",
    "  stokkur = [(i,j) for i in range(1,5) for j in range(1,14)]\n",
    "  return sample(stokkur, 5)\n",
    "\n",
    "def með_tvær_tvennur(hönd):\n",
    "  # Skilar sönnu ef hönd geymir tvær tvennur\n",
    "  gildi = [spil[1] for spil in hönd]\n",
    "  M = set(gildi)                 # búa til mengi\n",
    "  if len(M) != 3:\n",
    "    return False                 # það verða að vera 3 gildi\n",
    "  for spil in M:\n",
    "    talning = gildi.count(spil)\n",
    "    if talning > 2: return False # og ekkert spil má koma 3svar\n",
    "  return True                    # það eru tvær tvennur!\n",
    "\n",
    "def hlutfall_með_2x2(n):\n",
    "  talning = 0\n",
    "  for i in range(n):\n",
    "    hönd = pókerhönd()\n",
    "    if með_tvær_tvennur(hönd):\n",
    "      talning += 1\n",
    "  return talning/n\n",
    "\n",
    "hf = hlutfall_með_2x2(100000)\n",
    "print(f'Hlutfall með tvær tvennur: {hf*100:.1f}%')\n"
   ]
  },
  {
   "cell_type": "markdown",
   "metadata": {},
   "source": [
    "## a"
   ]
  },
  {
   "cell_type": "code",
   "execution_count": 31,
   "metadata": {},
   "outputs": [
    {
     "name": "stdout",
     "output_type": "stream",
     "text": [
      "[(4, 9), (3, 9), (4, 5), (3, 2), (2, 9)]\n",
      "False\n"
     ]
    }
   ],
   "source": [
    "def tvennaAHond(hond):\n",
    "    gildi = [spil[1] for spil in hond]\n",
    "    M = set(gildi)\n",
    "    \n",
    "    for spil in M:\n",
    "        if (gildi.count(spil) == 2): return True\n",
    "    \n",
    "    return False\n",
    "\n",
    "h = pókerhönd()\n",
    "# h = [(3,12),(4, 12), (2, 12), (3, 1), (2, 11)]\n",
    "print(h)\n",
    "print(tvennaAHond(h))"
   ]
  },
  {
   "cell_type": "markdown",
   "metadata": {},
   "source": [
    "## b"
   ]
  },
  {
   "cell_type": "code",
   "execution_count": 32,
   "metadata": {},
   "outputs": [
    {
     "name": "stdout",
     "output_type": "stream",
     "text": [
      "[(3, 12), (4, 12), (2, 12), (3, 11), (2, 11)]\n",
      "True\n"
     ]
    }
   ],
   "source": [
    "def trennaAHond(hond):\n",
    "    gildi = [spil[1] for spil in hond]\n",
    "    M = set(gildi)\n",
    "    \n",
    "    for spil in M:\n",
    "        if (gildi.count(spil) == 3): return True\n",
    "    \n",
    "    return False\n",
    "\n",
    "# h = pókerhönd()\n",
    "h = [(3, 12), (4, 12), (2, 12), (3, 11), (2, 11)]\n",
    "print(h)\n",
    "print(trennaAHond(h))"
   ]
  },
  {
   "cell_type": "markdown",
   "metadata": {},
   "source": [
    "## c"
   ]
  },
  {
   "cell_type": "code",
   "execution_count": 33,
   "metadata": {},
   "outputs": [
    {
     "name": "stdout",
     "output_type": "stream",
     "text": [
      "[(3, 11), (4, 11), (3, 9), (1, 11), (2, 9)]\n",
      "True\n"
     ]
    }
   ],
   "source": [
    "def fulltHus(hond):\n",
    "    if trennaAHond(hond) and tvennaAHond(hond):\n",
    "        return True\n",
    "    return False\n",
    "\n",
    "\n",
    "# h = pókerhönd()\n",
    "h = [(3, 11), (4, 11), (3, 9), (1, 11), (2, 9)]\n",
    "print(h)\n",
    "print(fulltHus(h))\n"
   ]
  },
  {
   "cell_type": "markdown",
   "metadata": {},
   "source": [
    "## d"
   ]
  },
  {
   "cell_type": "code",
   "execution_count": 34,
   "metadata": {},
   "outputs": [
    {
     "name": "stdout",
     "output_type": "stream",
     "text": [
      "[(3, 11), (4, 11), (3, 9), (1, 11), (2, 9)]\n",
      "False\n",
      "[(3, 1), (3, 2), (3, 3), (3, 4), (3, 5)]\n",
      "True\n"
     ]
    }
   ],
   "source": [
    "def litur(hond):\n",
    "    l = [spil[0] for spil in hond]\n",
    "    M = set(l)\n",
    "    if (len(M) > 1): return False\n",
    "    return True\n",
    "\n",
    "h = [(3, 11), (4, 11), (3, 9), (1, 11), (2, 9)]\n",
    "print(h)\n",
    "print(litur(h))\n",
    "\n",
    "h = [(3, 1), (3, 2), (3, 3), (3, 4), (3, 5)]\n",
    "print(h)\n",
    "print(litur(h))"
   ]
  },
  {
   "cell_type": "markdown",
   "metadata": {},
   "source": [
    "# 40 pandas æfing"
   ]
  },
  {
   "cell_type": "markdown",
   "metadata": {},
   "source": [
    "## 1"
   ]
  },
  {
   "cell_type": "code",
   "execution_count": 35,
   "metadata": {},
   "outputs": [
    {
     "name": "stdout",
     "output_type": "stream",
     "text": [
      "   Listi  Atkvæði  Þingsæti\n",
      "0      B    34501        13\n",
      "1      C    16628         5\n",
      "2      D    48708        16\n",
      "3      F    17672         6\n",
      "4      J     8181         0\n",
      "5      M    10879         3\n",
      "6      O      836         0\n",
      "7      P    17233         6\n",
      "8      S    19825         6\n",
      "9      V    25114         8\n",
      "10     Y      144         0\n"
     ]
    }
   ],
   "source": [
    "import pandas as pd\n",
    "\n",
    "urslit = pd.read_fwf('https://cs.hi.is/python/kosningar-2021.txt')\n",
    "\n",
    "print(urslit)"
   ]
  },
  {
   "cell_type": "markdown",
   "metadata": {},
   "source": [
    "## 2"
   ]
  },
  {
   "cell_type": "code",
   "execution_count": 36,
   "metadata": {},
   "outputs": [
    {
     "name": "stdout",
     "output_type": "stream",
     "text": [
      "       Atkvæði  Þingsæti              Flokkur\n",
      "Listi                                        \n",
      "B        34501        13    Framsóknarflokkur\n",
      "C        16628         5             Viðreisn\n",
      "D        48708        16   Sjálfstæðisflokkur\n",
      "F        17672         6     Flokkur fólksins\n",
      "J         8181         0    Sósíalistaflokkur\n",
      "M        10879         3           Miðflokkur\n",
      "O          836         0  Frjálslyndi lýðrfl.\n",
      "P        17233         6              Píratar\n",
      "S        19825         6           Samfylking\n",
      "V        25114         8         Vinstri græn\n",
      "Y          144         0        Ábyrg framtíð\n"
     ]
    }
   ],
   "source": [
    "stafir = pd.read_csv('https://cs.hi.is/python/flokksnofn.txt',sep=',\\t',engine='python')\n",
    "\n",
    "df = urslit.set_index('Listi').join(stafir.set_index('Listi'))\n",
    "print(df)"
   ]
  },
  {
   "cell_type": "markdown",
   "metadata": {},
   "source": [
    "## 3"
   ]
  },
  {
   "cell_type": "code",
   "execution_count": 40,
   "metadata": {},
   "outputs": [
    {
     "name": "stdout",
     "output_type": "stream",
     "text": [
      "       Atkvæði  Þingsæti             Flokkur   Hlutfall\n",
      "Listi                                                  \n",
      "B        34501        13   Framsóknarflokkur  17.274598\n",
      "C        16628         5            Viðreisn   8.325614\n",
      "D        48708        16  Sjálfstæðisflokkur  24.388021\n",
      "F        17672         6    Flokkur fólksins   8.848343\n",
      "M        10879         3          Miðflokkur   5.447099\n",
      "P        17233         6             Píratar   8.628537\n",
      "S        19825         6          Samfylking   9.926347\n",
      "V        25114         8        Vinstri græn  12.574541\n"
     ]
    }
   ],
   "source": [
    "df[\"Hlutfall\"] = (df[\"Atkvæði\"] / sum(df[\"Atkvæði\"])) * 100\n",
    "print(df[df[\"Hlutfall\"] > 5])"
   ]
  }
 ],
 "metadata": {
  "interpreter": {
   "hash": "d81070026743709bb9828d5354e0a026335c39c8cec37d047fb4b5fc369d19fc"
  },
  "kernelspec": {
   "display_name": "Python 3.10.0 64-bit",
   "language": "python",
   "name": "python3"
  },
  "language_info": {
   "codemirror_mode": {
    "name": "ipython",
    "version": 3
   },
   "file_extension": ".py",
   "mimetype": "text/x-python",
   "name": "python",
   "nbconvert_exporter": "python",
   "pygments_lexer": "ipython3",
   "version": "3.10.0"
  },
  "orig_nbformat": 4
 },
 "nbformat": 4,
 "nbformat_minor": 2
}
