{
 "cells": [
  {
   "cell_type": "markdown",
   "metadata": {},
   "source": [
    "# 34 póker"
   ]
  },
  {
   "cell_type": "code",
   "execution_count": 30,
   "metadata": {},
   "outputs": [
    {
     "name": "stdout",
     "output_type": "stream",
     "text": [
      "Hlutfall með tvær tvennur: 4.7%\n"
     ]
    }
   ],
   "source": [
    "from random import sample\n",
    "\n",
    "def pókerhönd():\n",
    "  stokkur = [(i,j) for i in range(1,5) for j in range(1,14)]\n",
    "  return sample(stokkur, 5)\n",
    "\n",
    "def með_tvær_tvennur(hönd):\n",
    "  # Skilar sönnu ef hönd geymir tvær tvennur\n",
    "  gildi = [spil[1] for spil in hönd]\n",
    "  M = set(gildi)                 # búa til mengi\n",
    "  if len(M) != 3:\n",
    "    return False                 # það verða að vera 3 gildi\n",
    "  for spil in M:\n",
    "    talning = gildi.count(spil)\n",
    "    if talning > 2: return False # og ekkert spil má koma 3svar\n",
    "  return True                    # það eru tvær tvennur!\n",
    "\n",
    "def hlutfall_með_2x2(n):\n",
    "  talning = 0\n",
    "  for i in range(n):\n",
    "    hönd = pókerhönd()\n",
    "    if með_tvær_tvennur(hönd):\n",
    "      talning += 1\n",
    "  return talning/n\n",
    "\n",
    "hf = hlutfall_með_2x2(100000)\n",
    "print(f'Hlutfall með tvær tvennur: {hf*100:.1f}%')\n"
   ]
  },
  {
   "cell_type": "markdown",
   "metadata": {},
   "source": [
    "## a"
   ]
  },
  {
   "cell_type": "code",
   "execution_count": 31,
   "metadata": {},
   "outputs": [
    {
     "name": "stdout",
     "output_type": "stream",
     "text": [
      "[(4, 9), (3, 9), (4, 5), (3, 2), (2, 9)]\n",
      "False\n"
     ]
    }
   ],
   "source": [
    "def tvennaAHond(hond):\n",
    "    gildi = [spil[1] for spil in hond]\n",
    "    M = set(gildi)\n",
    "    \n",
    "    for spil in M:\n",
    "        if (gildi.count(spil) == 2): return True\n",
    "    \n",
    "    return False\n",
    "\n",
    "h = pókerhönd()\n",
    "# h = [(3,12),(4, 12), (2, 12), (3, 1), (2, 11)]\n",
    "print(h)\n",
    "print(tvennaAHond(h))"
   ]
  },
  {
   "cell_type": "markdown",
   "metadata": {},
   "source": [
    "## b"
   ]
  },
  {
   "cell_type": "code",
   "execution_count": 32,
   "metadata": {},
   "outputs": [
    {
     "name": "stdout",
     "output_type": "stream",
     "text": [
      "[(3, 12), (4, 12), (2, 12), (3, 11), (2, 11)]\n",
      "True\n"
     ]
    }
   ],
   "source": [
    "def trennaAHond(hond):\n",
    "    gildi = [spil[1] for spil in hond]\n",
    "    M = set(gildi)\n",
    "    \n",
    "    for spil in M:\n",
    "        if (gildi.count(spil) == 3): return True\n",
    "    \n",
    "    return False\n",
    "\n",
    "# h = pókerhönd()\n",
    "h = [(3, 12), (4, 12), (2, 12), (3, 11), (2, 11)]\n",
    "print(h)\n",
    "print(trennaAHond(h))"
   ]
  },
  {
   "cell_type": "markdown",
   "metadata": {},
   "source": [
    "## c"
   ]
  },
  {
   "cell_type": "code",
   "execution_count": 33,
   "metadata": {},
   "outputs": [
    {
     "name": "stdout",
     "output_type": "stream",
     "text": [
      "[(3, 11), (4, 11), (3, 9), (1, 11), (2, 9)]\n",
      "True\n"
     ]
    }
   ],
   "source": [
    "def fulltHus(hond):\n",
    "    if trennaAHond(hond) and tvennaAHond(hond):\n",
    "        return True\n",
    "    return False\n",
    "\n",
    "\n",
    "# h = pókerhönd()\n",
    "h = [(3, 11), (4, 11), (3, 9), (1, 11), (2, 9)]\n",
    "print(h)\n",
    "print(fulltHus(h))\n"
   ]
  },
  {
   "cell_type": "markdown",
   "metadata": {},
   "source": [
    "## d"
   ]
  },
  {
   "cell_type": "code",
   "execution_count": 34,
   "metadata": {},
   "outputs": [
    {
     "name": "stdout",
     "output_type": "stream",
     "text": [
      "[(3, 11), (4, 11), (3, 9), (1, 11), (2, 9)]\n",
      "False\n",
      "[(3, 1), (3, 2), (3, 3), (3, 4), (3, 5)]\n",
      "True\n"
     ]
    }
   ],
   "source": [
    "def litur(hond):\n",
    "    l = [spil[0] for spil in hond]\n",
    "    M = set(l)\n",
    "    if (len(M) > 1): return False\n",
    "    return True\n",
    "\n",
    "h = [(3, 11), (4, 11), (3, 9), (1, 11), (2, 9)]\n",
    "print(h)\n",
    "print(litur(h))\n",
    "\n",
    "h = [(3, 1), (3, 2), (3, 3), (3, 4), (3, 5)]\n",
    "print(h)\n",
    "print(litur(h))"
   ]
  },
  {
   "cell_type": "markdown",
   "metadata": {},
   "source": [
    "# 40 pandas æfing"
   ]
  },
  {
   "cell_type": "markdown",
   "metadata": {},
   "source": [
    "## 1"
   ]
  },
  {
   "cell_type": "code",
   "execution_count": 35,
   "metadata": {},
   "outputs": [
    {
     "name": "stdout",
     "output_type": "stream",
     "text": [
      "   Listi  Atkvæði  Þingsæti\n",
      "0      B    34501        13\n",
      "1      C    16628         5\n",
      "2      D    48708        16\n",
      "3      F    17672         6\n",
      "4      J     8181         0\n",
      "5      M    10879         3\n",
      "6      O      836         0\n",
      "7      P    17233         6\n",
      "8      S    19825         6\n",
      "9      V    25114         8\n",
      "10     Y      144         0\n"
     ]
    }
   ],
   "source": [
    "import pandas as pd\n",
    "\n",
    "urslit = pd.read_fwf('https://cs.hi.is/python/kosningar-2021.txt')\n",
    "\n",
    "print(urslit)"
   ]
  },
  {
   "cell_type": "markdown",
   "metadata": {},
   "source": [
    "## 2"
   ]
  },
  {
   "cell_type": "code",
   "execution_count": 36,
   "metadata": {},
   "outputs": [
    {
     "name": "stdout",
     "output_type": "stream",
     "text": [
      "       Atkvæði  Þingsæti              Flokkur\n",
      "Listi                                        \n",
      "B        34501        13    Framsóknarflokkur\n",
      "C        16628         5             Viðreisn\n",
      "D        48708        16   Sjálfstæðisflokkur\n",
      "F        17672         6     Flokkur fólksins\n",
      "J         8181         0    Sósíalistaflokkur\n",
      "M        10879         3           Miðflokkur\n",
      "O          836         0  Frjálslyndi lýðrfl.\n",
      "P        17233         6              Píratar\n",
      "S        19825         6           Samfylking\n",
      "V        25114         8         Vinstri græn\n",
      "Y          144         0        Ábyrg framtíð\n"
     ]
    }
   ],
   "source": [
    "stafir = pd.read_csv('https://cs.hi.is/python/flokksnofn.txt',sep=',\\t',engine='python')\n",
    "\n",
    "df = urslit.set_index('Listi').join(stafir.set_index('Listi'))\n",
    "print(df)"
   ]
  },
  {
   "cell_type": "markdown",
   "metadata": {},
   "source": [
    "## 3"
   ]
  },
  {
   "cell_type": "code",
   "execution_count": 39,
   "metadata": {},
   "outputs": [
    {
     "ename": "KeyError",
     "evalue": "'hlutfall'",
     "output_type": "error",
     "traceback": [
      "\u001b[0;31m---------------------------------------------------------------------------\u001b[0m",
      "\u001b[0;31mKeyError\u001b[0m                                  Traceback (most recent call last)",
      "File \u001b[0;32m~/.local/lib/python3.10/site-packages/pandas/core/indexes/base.py:3621\u001b[0m, in \u001b[0;36mIndex.get_loc\u001b[0;34m(self, key, method, tolerance)\u001b[0m\n\u001b[1;32m   <a href='file:///home/tumi/.local/lib/python3.10/site-packages/pandas/core/indexes/base.py?line=3619'>3620</a>\u001b[0m \u001b[39mtry\u001b[39;00m:\n\u001b[0;32m-> <a href='file:///home/tumi/.local/lib/python3.10/site-packages/pandas/core/indexes/base.py?line=3620'>3621</a>\u001b[0m     \u001b[39mreturn\u001b[39;00m \u001b[39mself\u001b[39;49m\u001b[39m.\u001b[39;49m_engine\u001b[39m.\u001b[39;49mget_loc(casted_key)\n\u001b[1;32m   <a href='file:///home/tumi/.local/lib/python3.10/site-packages/pandas/core/indexes/base.py?line=3621'>3622</a>\u001b[0m \u001b[39mexcept\u001b[39;00m \u001b[39mKeyError\u001b[39;00m \u001b[39mas\u001b[39;00m err:\n",
      "File \u001b[0;32m~/.local/lib/python3.10/site-packages/pandas/_libs/index.pyx:136\u001b[0m, in \u001b[0;36mpandas._libs.index.IndexEngine.get_loc\u001b[0;34m()\u001b[0m\n",
      "File \u001b[0;32m~/.local/lib/python3.10/site-packages/pandas/_libs/index.pyx:163\u001b[0m, in \u001b[0;36mpandas._libs.index.IndexEngine.get_loc\u001b[0;34m()\u001b[0m\n",
      "File \u001b[0;32mpandas/_libs/hashtable_class_helper.pxi:5198\u001b[0m, in \u001b[0;36mpandas._libs.hashtable.PyObjectHashTable.get_item\u001b[0;34m()\u001b[0m\n",
      "File \u001b[0;32mpandas/_libs/hashtable_class_helper.pxi:5206\u001b[0m, in \u001b[0;36mpandas._libs.hashtable.PyObjectHashTable.get_item\u001b[0;34m()\u001b[0m\n",
      "\u001b[0;31mKeyError\u001b[0m: 'hlutfall'",
      "\nThe above exception was the direct cause of the following exception:\n",
      "\u001b[0;31mKeyError\u001b[0m                                  Traceback (most recent call last)",
      "\u001b[1;32m/home/tumi/Documents/reikni/s9/s9.ipynb Cell 17'\u001b[0m in \u001b[0;36m<module>\u001b[0;34m\u001b[0m\n\u001b[1;32m      <a href='vscode-notebook-cell:/home/tumi/Documents/reikni/s9/s9.ipynb#ch0000017?line=0'>1</a>\u001b[0m df[\u001b[39m\"\u001b[39m\u001b[39mHlutfall\u001b[39m\u001b[39m\"\u001b[39m] \u001b[39m=\u001b[39m (df[\u001b[39m\"\u001b[39m\u001b[39mAtkvæði\u001b[39m\u001b[39m\"\u001b[39m] \u001b[39m/\u001b[39m \u001b[39msum\u001b[39m(df[\u001b[39m\"\u001b[39m\u001b[39mAtkvæði\u001b[39m\u001b[39m\"\u001b[39m])) \u001b[39m*\u001b[39m \u001b[39m100\u001b[39m\n\u001b[0;32m----> <a href='vscode-notebook-cell:/home/tumi/Documents/reikni/s9/s9.ipynb#ch0000017?line=1'>2</a>\u001b[0m \u001b[39mprint\u001b[39m(df[df[\u001b[39m\"\u001b[39;49m\u001b[39mhlutfall\u001b[39;49m\u001b[39m\"\u001b[39;49m] \u001b[39m>\u001b[39m \u001b[39m5\u001b[39m])\n",
      "File \u001b[0;32m~/.local/lib/python3.10/site-packages/pandas/core/frame.py:3505\u001b[0m, in \u001b[0;36mDataFrame.__getitem__\u001b[0;34m(self, key)\u001b[0m\n\u001b[1;32m   <a href='file:///home/tumi/.local/lib/python3.10/site-packages/pandas/core/frame.py?line=3502'>3503</a>\u001b[0m \u001b[39mif\u001b[39;00m \u001b[39mself\u001b[39m\u001b[39m.\u001b[39mcolumns\u001b[39m.\u001b[39mnlevels \u001b[39m>\u001b[39m \u001b[39m1\u001b[39m:\n\u001b[1;32m   <a href='file:///home/tumi/.local/lib/python3.10/site-packages/pandas/core/frame.py?line=3503'>3504</a>\u001b[0m     \u001b[39mreturn\u001b[39;00m \u001b[39mself\u001b[39m\u001b[39m.\u001b[39m_getitem_multilevel(key)\n\u001b[0;32m-> <a href='file:///home/tumi/.local/lib/python3.10/site-packages/pandas/core/frame.py?line=3504'>3505</a>\u001b[0m indexer \u001b[39m=\u001b[39m \u001b[39mself\u001b[39;49m\u001b[39m.\u001b[39;49mcolumns\u001b[39m.\u001b[39;49mget_loc(key)\n\u001b[1;32m   <a href='file:///home/tumi/.local/lib/python3.10/site-packages/pandas/core/frame.py?line=3505'>3506</a>\u001b[0m \u001b[39mif\u001b[39;00m is_integer(indexer):\n\u001b[1;32m   <a href='file:///home/tumi/.local/lib/python3.10/site-packages/pandas/core/frame.py?line=3506'>3507</a>\u001b[0m     indexer \u001b[39m=\u001b[39m [indexer]\n",
      "File \u001b[0;32m~/.local/lib/python3.10/site-packages/pandas/core/indexes/base.py:3623\u001b[0m, in \u001b[0;36mIndex.get_loc\u001b[0;34m(self, key, method, tolerance)\u001b[0m\n\u001b[1;32m   <a href='file:///home/tumi/.local/lib/python3.10/site-packages/pandas/core/indexes/base.py?line=3620'>3621</a>\u001b[0m     \u001b[39mreturn\u001b[39;00m \u001b[39mself\u001b[39m\u001b[39m.\u001b[39m_engine\u001b[39m.\u001b[39mget_loc(casted_key)\n\u001b[1;32m   <a href='file:///home/tumi/.local/lib/python3.10/site-packages/pandas/core/indexes/base.py?line=3621'>3622</a>\u001b[0m \u001b[39mexcept\u001b[39;00m \u001b[39mKeyError\u001b[39;00m \u001b[39mas\u001b[39;00m err:\n\u001b[0;32m-> <a href='file:///home/tumi/.local/lib/python3.10/site-packages/pandas/core/indexes/base.py?line=3622'>3623</a>\u001b[0m     \u001b[39mraise\u001b[39;00m \u001b[39mKeyError\u001b[39;00m(key) \u001b[39mfrom\u001b[39;00m \u001b[39merr\u001b[39;00m\n\u001b[1;32m   <a href='file:///home/tumi/.local/lib/python3.10/site-packages/pandas/core/indexes/base.py?line=3623'>3624</a>\u001b[0m \u001b[39mexcept\u001b[39;00m \u001b[39mTypeError\u001b[39;00m:\n\u001b[1;32m   <a href='file:///home/tumi/.local/lib/python3.10/site-packages/pandas/core/indexes/base.py?line=3624'>3625</a>\u001b[0m     \u001b[39m# If we have a listlike key, _check_indexing_error will raise\u001b[39;00m\n\u001b[1;32m   <a href='file:///home/tumi/.local/lib/python3.10/site-packages/pandas/core/indexes/base.py?line=3625'>3626</a>\u001b[0m     \u001b[39m#  InvalidIndexError. Otherwise we fall through and re-raise\u001b[39;00m\n\u001b[1;32m   <a href='file:///home/tumi/.local/lib/python3.10/site-packages/pandas/core/indexes/base.py?line=3626'>3627</a>\u001b[0m     \u001b[39m#  the TypeError.\u001b[39;00m\n\u001b[1;32m   <a href='file:///home/tumi/.local/lib/python3.10/site-packages/pandas/core/indexes/base.py?line=3627'>3628</a>\u001b[0m     \u001b[39mself\u001b[39m\u001b[39m.\u001b[39m_check_indexing_error(key)\n",
      "\u001b[0;31mKeyError\u001b[0m: 'hlutfall'"
     ]
    }
   ],
   "source": [
    "df[\"Hlutfall\"] = (df[\"Atkvæði\"] / sum(df[\"Atkvæði\"])) * 100\n",
    "print(df[df[\"Hlutfall\"] > 5])"
   ]
  }
 ],
 "metadata": {
  "interpreter": {
   "hash": "d81070026743709bb9828d5354e0a026335c39c8cec37d047fb4b5fc369d19fc"
  },
  "kernelspec": {
   "display_name": "Python 3.10.0 64-bit",
   "language": "python",
   "name": "python3"
  },
  "language_info": {
   "codemirror_mode": {
    "name": "ipython",
    "version": 3
   },
   "file_extension": ".py",
   "mimetype": "text/x-python",
   "name": "python",
   "nbconvert_exporter": "python",
   "pygments_lexer": "ipython3",
   "version": "3.10.0"
  },
  "orig_nbformat": 4
 },
 "nbformat": 4,
 "nbformat_minor": 2
}
