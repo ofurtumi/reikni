{
 "cells": [
  {
   "cell_type": "markdown",
   "metadata": {},
   "source": [
    "# sveiflutími gorms"
   ]
  },
  {
   "cell_type": "code",
   "execution_count": 13,
   "metadata": {},
   "outputs": [],
   "source": [
    "from math import pi,sqrt\n",
    "\n",
    "def sveifla(m,k1,k2):\n",
    "    t = 2*pi*sqrt(m/(k1+k2))\n",
    "    return t\n"
   ]
  },
  {
   "cell_type": "code",
   "execution_count": 14,
   "metadata": {},
   "outputs": [
    {
     "name": "stdout",
     "output_type": "stream",
     "text": [
      "T = 3.359\n"
     ]
    }
   ],
   "source": [
    "T = sveifla(2,3,4)\n",
    "print('T = %.3f' % T)"
   ]
  },
  {
   "cell_type": "markdown",
   "metadata": {},
   "source": [
    "# annars stigs jafna"
   ]
  },
  {
   "cell_type": "markdown",
   "metadata": {},
   "source": [
    "---\n",
    "forrit sem athugar hvort jafna sé annars eða fyrsta stigs og skilar viðeigandi svari\n",
    "\n",
    "tekur við input frá notanda, lið fyrir lið"
   ]
  },
  {
   "cell_type": "code",
   "execution_count": 21,
   "metadata": {},
   "outputs": [],
   "source": [
    "from math import sqrt\n",
    "\n",
    "def annarsstigs():\n",
    "    a = int(input(\"a: \"))\n",
    "    b = int(input(\"b: \"))\n",
    "    c = int(input(\"c: \"))\n",
    "\n",
    "    d = (b**2) - (4*a*c)\n",
    "    if (d < 0):\n",
    "        return \"Engin lausn er til\"\n",
    "\n",
    "    if (d == 0 or (a == 0 and b != 0)):\n",
    "        x = -(c/b)\n",
    "        return (\"jafnan er fyrsta stigs og hefur eina lausn: x = %.5f\" % x)\n",
    "\n",
    "    x1 = (-b + sqrt(d)) / (2*a)\n",
    "    x2 = (-b - sqrt(d))/(2*a)\n",
    "    return (\"jafnan er annars stigs hefur tvær lausnir: x1 = %.5f og x2 = %.5f\" % (x1,x2))\n",
    "    "
   ]
  },
  {
   "cell_type": "markdown",
   "metadata": {},
   "source": [
    "## test fyrir annarstigs"
   ]
  },
  {
   "cell_type": "code",
   "execution_count": 23,
   "metadata": {},
   "outputs": [
    {
     "name": "stdout",
     "output_type": "stream",
     "text": [
      "jafnan er fyrsta stigs og hefur eina lausn: x = -1.50000\n"
     ]
    }
   ],
   "source": [
    "# afmælisdagur 06.09\n",
    "print(annarsstigs()) # 6x + 9 = 0"
   ]
  },
  {
   "cell_type": "code",
   "execution_count": 24,
   "metadata": {},
   "outputs": [
    {
     "name": "stdout",
     "output_type": "stream",
     "text": [
      "Engin lausn er til\n"
     ]
    }
   ],
   "source": [
    "print(annarsstigs()) # 10x² + x + 9 = 0"
   ]
  },
  {
   "cell_type": "code",
   "execution_count": 25,
   "metadata": {},
   "outputs": [
    {
     "name": "stdout",
     "output_type": "stream",
     "text": [
      "jafnan er fyrsta stigs og hefur eina lausn: x = -0.50000\n"
     ]
    }
   ],
   "source": [
    "print(annarsstigs()) # x² + 2x + 1 = 0"
   ]
  },
  {
   "cell_type": "code",
   "execution_count": 26,
   "metadata": {},
   "outputs": [
    {
     "name": "stdout",
     "output_type": "stream",
     "text": [
      "jafnan er annars stigs hefur tvær lausnir: x1 = -0.33333 og x2 = -2.00000\n"
     ]
    }
   ],
   "source": [
    "print(annarsstigs()) # 3x² + 7x + 2 = 0"
   ]
  }
 ],
 "metadata": {
  "interpreter": {
   "hash": "d81070026743709bb9828d5354e0a026335c39c8cec37d047fb4b5fc369d19fc"
  },
  "kernelspec": {
   "display_name": "Python 3.10.0 64-bit",
   "language": "python",
   "name": "python3"
  },
  "language_info": {
   "codemirror_mode": {
    "name": "ipython",
    "version": 3
   },
   "file_extension": ".py",
   "mimetype": "text/x-python",
   "name": "python",
   "nbconvert_exporter": "python",
   "pygments_lexer": "ipython3",
   "version": "3.10.0"
  },
  "orig_nbformat": 4
 },
 "nbformat": 4,
 "nbformat_minor": 2
}
