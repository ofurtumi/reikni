{
 "cells": [
  {
   "cell_type": "markdown",
   "metadata": {},
   "source": [
    "# 36 töluleg diffrun"
   ]
  },
  {
   "cell_type": "markdown",
   "metadata": {},
   "source": [
    "## 1."
   ]
  },
  {
   "cell_type": "code",
   "execution_count": 59,
   "metadata": {},
   "outputs": [
    {
     "name": "stdout",
     "output_type": "stream",
     "text": [
      "0.2500000000205116\n"
     ]
    }
   ],
   "source": [
    "from math import sqrt\n",
    "\n",
    "def f(x): return sqrt(x)\n",
    "\n",
    "def toldiff(f, a, h):\n",
    "    y = (f(a+h)-f(a-h))/(2*h)\n",
    "    return y\n",
    "\n",
    "print(toldiff(f, 4, 10**-4))"
   ]
  },
  {
   "cell_type": "markdown",
   "metadata": {},
   "source": [
    "## 2."
   ]
  },
  {
   "cell_type": "code",
   "execution_count": null,
   "metadata": {},
   "outputs": [
    {
     "name": "stdout",
     "output_type": "stream",
     "text": [
      "nr. output            ms.\n",
      " 1. 0.250019536592543 \n",
      " 2. 0.250000195313038 \n",
      " 3. 0.250000001953188 \n",
      " 4. 0.250000000020512 \n",
      " 5. 0.250000000001638 *\n",
      " 6. 0.249999999923922 \n",
      " 7. 0.249999999590855 \n",
      " 8. 0.249999987378402 \n",
      " 9. 0.250000020685093 \n",
      "10. 0.250000020685093 \n"
     ]
    }
   ],
   "source": [
    "vidmid = 1/(2*sqrt(4))\n",
    "tafla = [toldiff(f,4,10**(-k)) for k in range(1,11)]\n",
    "minnsta = 99999 # minnsta skekkja\n",
    "mIndex  = 0     # index af minnstu skekkju\n",
    "for i in range(len(tafla)):\n",
    "    temp = abs(vidmid - tafla[i])\n",
    "    if (temp < minnsta): \n",
    "        mIndex = i\n",
    "        minnsta = temp\n",
    "\n",
    "print(f'nr. output            ms.')\n",
    "for (i, n) in enumerate(tafla,1):\n",
    "    print(f'{i:2}. {n:.15} {\"*\" if i == (mIndex+1) else \"\"}')"
   ]
  },
  {
   "cell_type": "markdown",
   "metadata": {},
   "source": [
    "# 39. nálgun við pi"
   ]
  },
  {
   "cell_type": "markdown",
   "metadata": {},
   "source": [
    "## 1."
   ]
  },
  {
   "cell_type": "code",
   "execution_count": null,
   "metadata": {},
   "outputs": [
    {
     "name": "stdout",
     "output_type": "stream",
     "text": [
      "0.19739550476190476\n",
      "0.1973955598498807\n"
     ]
    }
   ],
   "source": [
    "def taylortan(x, n):\n",
    "    y = 0\n",
    "    for i in range(n):\n",
    "        y = y + ((-1)**i) * ((x**(2*i+1)) / (2*i+1))\n",
    "\n",
    "    return y\n",
    "\n",
    "print(taylortan(0.2, 4))\n",
    "print(taylortan(0.2, 10))"
   ]
  },
  {
   "cell_type": "markdown",
   "metadata": {},
   "source": [
    "## 2."
   ]
  },
  {
   "cell_type": "code",
   "execution_count": null,
   "metadata": {},
   "outputs": [
    {
     "name": "stdout",
     "output_type": "stream",
     "text": [
      "3.1415926535897922\n"
     ]
    }
   ],
   "source": [
    "def pi(): \n",
    "    return ((4*taylortan(0.2,10)) - taylortan(1/239,10))\n",
    "\n",
    "print(pi()*4)"
   ]
  },
  {
   "cell_type": "markdown",
   "metadata": {},
   "source": [
    "# VV4 A"
   ]
  },
  {
   "cell_type": "markdown",
   "metadata": {},
   "source": [
    "## 1."
   ]
  },
  {
   "cell_type": "code",
   "execution_count": null,
   "metadata": {},
   "outputs": [
    {
     "name": "stdout",
     "output_type": "stream",
     "text": [
      "11.40175425099138\n",
      "-8\n"
     ]
    }
   ],
   "source": [
    "def forrit(a,n):\n",
    "    if a < 0:\n",
    "        return a**n\n",
    "    else:\n",
    "        return sqrt((a**n)+a)\n",
    "\n",
    "print(forrit(2,7))\n",
    "print(forrit(-2,3))"
   ]
  },
  {
   "cell_type": "markdown",
   "metadata": {},
   "source": [
    "## 2."
   ]
  },
  {
   "cell_type": "code",
   "execution_count": null,
   "metadata": {},
   "outputs": [
    {
     "name": "stdout",
     "output_type": "stream",
     "text": [
      "2\n"
     ]
    }
   ],
   "source": [
    "def finna(arr):\n",
    "    for n, i in enumerate(arr):\n",
    "        if (i**5+i == 246): return n\n",
    "    return -1\n",
    "\n",
    "arr = [5, 4, 3, 2, 1]\n",
    "print(finna(arr))"
   ]
  }
 ],
 "metadata": {
  "interpreter": {
   "hash": "d81070026743709bb9828d5354e0a026335c39c8cec37d047fb4b5fc369d19fc"
  },
  "kernelspec": {
   "display_name": "Python 3.10.0 64-bit",
   "language": "python",
   "name": "python3"
  },
  "language_info": {
   "codemirror_mode": {
    "name": "ipython",
    "version": 3
   },
   "file_extension": ".py",
   "mimetype": "text/x-python",
   "name": "python",
   "nbconvert_exporter": "python",
   "pygments_lexer": "ipython3",
   "version": "3.10.0"
  },
  "orig_nbformat": 4
 },
 "nbformat": 4,
 "nbformat_minor": 2
}
