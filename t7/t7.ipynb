{
 "cells": [
  {
   "cell_type": "code",
   "execution_count": 4,
   "metadata": {},
   "outputs": [
    {
     "name": "stdout",
     "output_type": "stream",
     "text": [
      "[[0 1 1 1]\n",
      " [0 0 1 1]\n",
      " [0 0 0 1]\n",
      " [0 0 0 0]]\n",
      "[[0 0 1 2]\n",
      " [0 0 0 1]\n",
      " [0 0 0 0]\n",
      " [0 0 0 0]]\n",
      "[[0 0 0 1]\n",
      " [0 0 0 0]\n",
      " [0 0 0 0]\n",
      " [0 0 0 0]]\n",
      "[[0 1 2 4]\n",
      " [0 0 1 2]\n",
      " [0 0 0 1]\n",
      " [0 0 0 0]]\n"
     ]
    }
   ],
   "source": [
    "import numpy as np\n",
    "import numpy.linalg as la\n",
    "\n",
    "A = np.array([\n",
    "    [0,1,1,1],\n",
    "    [0,0,1,1],\n",
    "    [0,0,0,1],\n",
    "    [0,0,0,0]])\n",
    "\n",
    "A2 = la.matrix_power(A,2)\n",
    "A3 = la.matrix_power(A,3)\n",
    "\n",
    "B = A + A2 + A3\n",
    "print(A)\n",
    "print(A2)\n",
    "print(A3)\n",
    "print(B)"
   ]
  },
  {
   "cell_type": "code",
   "execution_count": 1,
   "metadata": {},
   "outputs": [
    {
     "name": "stdout",
     "output_type": "stream",
     "text": [
      "[1200 1000  800]\n",
      "[1480.  960.  500.]\n",
      "[1272. 1184.  480.]\n",
      "[1339.62264151 1071.69811321  535.8490566 ]\n",
      "[1339.62264151 1071.69811321  535.8490566 ]\n"
     ]
    }
   ],
   "source": [
    "import numpy as np\n",
    "import numpy.linalg as la\n",
    "\n",
    "b = (0.2, 0.6, 0.8)\n",
    "d = (0.2, 0.5, 1)   \n",
    "x0 = np.array([1200, 1000, 800])\n",
    "\n",
    "A = np.array([\n",
    "    [0.2,0.6,0.8],\n",
    "    [0.8,0,0],\n",
    "    [0,0.5,0]])\n",
    "\n",
    "x1 = A @ x0\n",
    "x2 = A @ x1\n",
    "x100 = la.matrix_power(A,100) @ x0\n",
    "x200 = la.matrix_power(A,200) @ x0\n",
    "\n",
    "print(x0)\n",
    "print(x1)\n",
    "print(x2)\n",
    "print(x100)\n",
    "print(x200)"
   ]
  }
 ],
 "metadata": {
  "interpreter": {
   "hash": "d81070026743709bb9828d5354e0a026335c39c8cec37d047fb4b5fc369d19fc"
  },
  "kernelspec": {
   "display_name": "Python 3.10.0 64-bit",
   "language": "python",
   "name": "python3"
  },
  "language_info": {
   "codemirror_mode": {
    "name": "ipython",
    "version": 3
   },
   "file_extension": ".py",
   "mimetype": "text/x-python",
   "name": "python",
   "nbconvert_exporter": "python",
   "pygments_lexer": "ipython3",
   "version": "3.10.0"
  },
  "orig_nbformat": 4
 },
 "nbformat": 4,
 "nbformat_minor": 2
}
