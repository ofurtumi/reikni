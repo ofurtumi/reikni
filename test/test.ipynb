{
 "cells": [
  {
   "cell_type": "code",
   "execution_count": 48,
   "metadata": {},
   "outputs": [
    {
     "name": "stdout",
     "output_type": "stream",
     "text": [
      "len: 169 min: 1 max: 994 sum: 85958\n",
      "singles: 1,8,16,25,33,50,82,91,100,113,125,127,131,133,135,142,145,146,158,159,160,161,163,168,169,177,187,193,194,216,221,229,231,254,258,260,264,268,271,275,298,302,313,314,327,330,333,335,344,350,353,371,374,377,378,388,389,393,411,415,434,445,459,476,500,501,522,528,535,536,537,550,552,555,556,562,569,573,583,588,589,593,602,603,606,609,613,628,629,632,640,645,653,667,668,680,685,699,717,724,726,733,740,759,780,784,785,817,818,825,826,839,842,845,865,869,898,899,905,913,914,915,917,921,923,931,935,941,947,954,957,962,965,968,971,985,986,990,991,991,\n",
      "doubles: 18,188,240,288,326,368,424,489,516,690,752,868,891,\n",
      "triples: 510,\n"
     ]
    }
   ],
   "source": [
    "from random import randint\n",
    "\n",
    "# tekur inn heiltölu \n",
    "def makeArray(n):\n",
    "    out = []\n",
    "    variation = []\n",
    "    count = 0\n",
    "    N = randint(1, n)\n",
    "    for i in range(N):\n",
    "        out.append(randint(0,n))\n",
    "\n",
    "    out.sort()\n",
    "    for i in range(len(out)):\n",
    "        if (i == 0):\n",
    "            continue            \n",
    "\n",
    "        if (out[i] == out[i-1]):\n",
    "            count+=1\n",
    "\n",
    "        elif count > 0:\n",
    "            count+=1\n",
    "            variation.append({\"key\":out[i-1],\"count\":count})\n",
    "            count = 0\n",
    "        \n",
    "        else:\n",
    "            variation.append({\"key\":out[i-1],\"count\":1})\n",
    "\n",
    "    if count > 0:\n",
    "        count+=1\n",
    "        variation.append({\"key\":out[i-1],\"count\":count})\n",
    "    else:\n",
    "        variation.append({\"key\":out[i-1],\"count\":1})\n",
    "        \n",
    "    return N, out, variation\n",
    "\n",
    "n, arr, v = makeArray(int(input(\"efri mörk stærðar fylkis: \")))\n",
    "print(f'len: {n}', f'min: {min(arr)}', f'max: {max(arr)}', f'sum: {sum(arr)}')\n",
    "# print(f'allt: {arr}')\n",
    "singles = \"\"\n",
    "doubles = \"\"\n",
    "triples = \"\"\n",
    "for i in v:\n",
    "    if (i[\"count\"] == 1):\n",
    "        singles+= f'{i[\"key\"]},'\n",
    "    elif (i[\"count\"] == 2):\n",
    "        doubles+= f'{i[\"key\"]},'\n",
    "    elif (i[\"count\"] == 3):\n",
    "        triples+= f'{i[\"key\"]},'\n",
    "    else:\n",
    "        print(f'{i[\"key\"]:5}: {i[\"count\"]:3}')\n",
    "\n",
    "print(f'singles: {singles}')\n",
    "print(f'doubles: {doubles}')\n",
    "print(f'triples: {triples}')"
   ]
  }
 ],
 "metadata": {
  "interpreter": {
   "hash": "d81070026743709bb9828d5354e0a026335c39c8cec37d047fb4b5fc369d19fc"
  },
  "kernelspec": {
   "display_name": "Python 3.10.0 64-bit",
   "language": "python",
   "name": "python3"
  },
  "language_info": {
   "codemirror_mode": {
    "name": "ipython",
    "version": 3
   },
   "file_extension": ".py",
   "mimetype": "text/x-python",
   "name": "python",
   "nbconvert_exporter": "python",
   "pygments_lexer": "ipython3",
   "version": "3.10.0"
  },
  "orig_nbformat": 4
 },
 "nbformat": 4,
 "nbformat_minor": 2
}
