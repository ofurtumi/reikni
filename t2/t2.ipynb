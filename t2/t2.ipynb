{
 "cells": [
  {
   "cell_type": "markdown",
   "metadata": {},
   "source": [
    "# Strengjablús"
   ]
  },
  {
   "cell_type": "code",
   "execution_count": 1,
   "metadata": {},
   "outputs": [
    {
     "name": "stdout",
     "output_type": "stream",
     "text": [
      "1. Fyrsta bilið er í indexi nr. 9\n",
      "2. Fornafnið: Þorvaldur\n",
      "3. Lengd nafnsins: 25\n",
      "4. Er \"r\" í nafninu: True\n",
      "5. Stórir stafir: ÞORVALDUR TUMI BALDURSSON\n"
     ]
    }
   ],
   "source": [
    "s = \"Þorvaldur Tumi Baldursson\"\n",
    "print(f'1. Fyrsta bilið er í indexi nr. {s.find(\" \")}')\n",
    "print(f'2. Fornafnið: {s[0:s.find(\" \")]}')\n",
    "print(f'3. Lengd nafnsins: {len(s)}')\n",
    "print(f'4. Er \"r\" í nafninu: {\"r\" in s.lower()}')\n",
    "print(f'5. Stórir stafir: {s.upper()}')"
   ]
  },
  {
   "cell_type": "markdown",
   "metadata": {},
   "source": [
    "# Listablús"
   ]
  },
  {
   "cell_type": "code",
   "execution_count": 2,
   "metadata": {},
   "outputs": [
    {
     "name": "stdout",
     "output_type": "stream",
     "text": [
      "1\n",
      "[2, 3, 4, 5]\n",
      "[5, 4, 3, 2, 1]\n",
      "[1, 3, 5, 7, 9, 11, 13, 15, 17]\n"
     ]
    }
   ],
   "source": [
    "def haus(L):\n",
    "    return L[0]\n",
    "\n",
    "def hali(L):\n",
    "    end = len(L)\n",
    "    h = L[1:end]\n",
    "    return h\n",
    "\n",
    "L = [1,2,3,4,5]\n",
    "print(haus(L))\n",
    "print(hali(L))\n",
    "\n",
    "def setjafremst(L,g):\n",
    "    L.insert(0,g)\n",
    "\n",
    "test = [4,3,2,1]\n",
    "setjafremst(test,5)\n",
    "print(test)\n",
    "\n",
    "def oddalisti(n):\n",
    "    a = []\n",
    "    for i in range(1,2*n,2):\n",
    "        a.append(i)\n",
    "    return a\n",
    "print(oddalisti(9))"
   ]
  },
  {
   "cell_type": "markdown",
   "metadata": {},
   "source": [
    "# Prímtölur < 20"
   ]
  },
  {
   "cell_type": "code",
   "execution_count": 3,
   "metadata": {},
   "outputs": [
    {
     "name": "stdout",
     "output_type": "stream",
     "text": [
      "{2, 4, 6, 8, 10, 12, 14, 16, 18, 20}\n",
      "{3, 6, 9, 12, 15, 18}\n",
      "{10, 20, 5, 15}\n",
      "{18, 12, 6}\n",
      "{2, 3, 4, 5, 6, 7, 8, 9, 10, 11, 12, 13, 14, 15, 16, 17, 18, 19, 20}\n",
      "{17, 19, 7, 11, 13}\n"
     ]
    }
   ],
   "source": [
    "S = set(range(2,21,2))\n",
    "M3 = set(range(3,21,3))\n",
    "M5 = set(range(5,21,5))\n",
    "M6 = set(S & M3)\n",
    "X = set(range(2,21))\n",
    "P = set(X-(S|M3|M5|M6))\n",
    "\n",
    "print(S)\n",
    "print(M3)\n",
    "print(M5)\n",
    "print(M6)\n",
    "print(X)\n",
    "print(P)"
   ]
  },
  {
   "cell_type": "markdown",
   "metadata": {},
   "source": [
    "# 3F\n",
    "## viðsnúningur lista"
   ]
  },
  {
   "cell_type": "code",
   "execution_count": 4,
   "metadata": {},
   "outputs": [
    {
     "name": "stdout",
     "output_type": "stream",
     "text": [
      "[2, 3, 4, 5, 1]\n",
      "[1, 2, 3, 4, 5]\n",
      "[5, 4, 3, 2, 1]\n"
     ]
    }
   ],
   "source": [
    "def hausaftast(L):\n",
    "    L.append(L.pop(0))\n",
    "\n",
    "test = [1,2,3,4,5]\n",
    "hausaftast(test)\n",
    "print(test)    \n",
    "\n",
    "def snuavid(L):\n",
    "    snuinn = []\n",
    "    for i in L:\n",
    "        snuinn.insert(0,i)\n",
    "\n",
    "    return snuinn\n",
    "\n",
    "testSnu = [1,2,3,4,5]\n",
    "print(testSnu)\n",
    "print(snuavid(testSnu))\n"
   ]
  },
  {
   "cell_type": "markdown",
   "metadata": {},
   "source": [
    "# 4\n",
    "## orðaleikur"
   ]
  },
  {
   "cell_type": "code",
   "execution_count": 2,
   "metadata": {},
   "outputs": [
    {
     "name": "stdout",
     "output_type": "stream",
     "text": [
      "['Halló', 'ég', 'heiti', 'Þorvaldur', 'Tumi']\n",
      "[5, 2, 5, 9, 4]\n",
      "HALLO!!\n",
      "False\n"
     ]
    }
   ],
   "source": [
    "def telja(s):\n",
    "    a = s.split()\n",
    "    out = []\n",
    "    for i in a:\n",
    "        out.append(len(i))\n",
    "\n",
    "    return out\n",
    "\n",
    "strengur = \"Halló ég heiti Þorvaldur Tumi\"\n",
    "print(telja(strengur))\n",
    "\n",
    "def hropa(s):\n",
    "    print(s.upper()+\"!!\")\n",
    "\n",
    "hropa(\"hallo\")\n",
    "\n",
    "def storir(c):\n",
    "    if c == c.upper():\n",
    "        return True\n",
    "    else:\n",
    "        return False\n",
    "\n",
    "print(storir(\"halló ég Heiti Tumi\"))"
   ]
  }
 ],
 "metadata": {
  "interpreter": {
   "hash": "d81070026743709bb9828d5354e0a026335c39c8cec37d047fb4b5fc369d19fc"
  },
  "kernelspec": {
   "display_name": "Python 3.10.0 64-bit",
   "language": "python",
   "name": "python3"
  },
  "language_info": {
   "codemirror_mode": {
    "name": "ipython",
    "version": 3
   },
   "file_extension": ".py",
   "mimetype": "text/x-python",
   "name": "python",
   "nbconvert_exporter": "python",
   "pygments_lexer": "ipython3",
   "version": "3.10.0"
  },
  "orig_nbformat": 4
 },
 "nbformat": 4,
 "nbformat_minor": 2
}
