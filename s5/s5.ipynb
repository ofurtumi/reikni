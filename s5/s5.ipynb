{
 "cells": [
  {
   "cell_type": "markdown",
   "metadata": {},
   "source": [
    "# sameining nafnaskrár og einkunnarskrár"
   ]
  },
  {
   "cell_type": "markdown",
   "metadata": {},
   "source": [
    "## a,b"
   ]
  },
  {
   "cell_type": "code",
   "execution_count": 10,
   "metadata": {},
   "outputs": [
    {
     "name": "stdout",
     "output_type": "stream",
     "text": [
      "{'0176': '7.0', '0542': '8.0', '0970': '9.5', '1419': '6.5', '1577': '7.0', '2785': '9.0', '4218': '7.0', '4854': '9.0', '5469': '10.0', '6324': '6.5', '6558': '8.5', '7923': '5.5', '8003': '9.5', '8148': '5.0', '8492': '7.5', '9058': '7.5', '9134': '8.0', '9158': '8.0', '9340': '6.5', '9572': '8.0', '9576': '5.5', '9595': '8.5', '9649': '6.5', '9706': '9.0'}\n",
      "{'0176': 'Sigrún Ása Jónsdóttir', '0542': 'Kristín Fjóludóttir', '0970': 'Birta Lárusdóttir', '1419': 'Erla Ýr Guðnadóttir', '1577': 'Hulda Ósk Jónasdóttir', '2785': 'Bjarki Már Sveinsson', '4218': 'Kjartan Valur Jónsson', '4854': 'Anton Ingi Þórsson', '5469': 'Íris María Birgisdóttir', '6324': 'Ívar Sigurðsson', '6558': 'Ágúst Guðni Ingason', '7923': 'Steinunn Guðlaug Gunnarsdóttir', '8003': 'Eydís Þorsteinsdóttir', '8148': 'Signý Guðrún Pálsdóttir', '8492': 'Andri Oddur Steinarsson', '9058': 'Elías Ari Heimisson', '9134': 'Aðalheiður Pétursdóttir', '9158': 'Anna Sveinbjörnsdóttir', '9340': 'Bjarni Rúnar Kjartansson', '9572': 'Arna Þórisdóttir', '9576': 'Mark Johnson', '9595': 'Víðir Kristjánsson', '9649': 'Anna Kristinsdóttir', '9706': 'Jónas Valdimarsson'}\n"
     ]
    }
   ],
   "source": [
    "from urllib.request import urlopen\n",
    "f = urlopen(\"https://cs.hi.is/python/einkunn.txt\")\n",
    "\n",
    "eink_tafla = {}\n",
    "\n",
    "for line in f:\n",
    "    (nr, einkunn) = line.decode().strip().split()\n",
    "    eink_tafla[nr] = einkunn\n",
    "\n",
    "f = urlopen(\"https://cs.hi.is/python/nofn.txt\")\n",
    "\n",
    "eink_nofn = {}\n",
    "\n",
    "for line in f:\n",
    "    (nr,nafn) = line.decode().strip().split(maxsplit=1)\n",
    "    eink_nofn[nr] = nafn\n",
    "\n",
    "print(eink_tafla)\n",
    "print(eink_nofn)"
   ]
  },
  {
   "cell_type": "markdown",
   "metadata": {},
   "source": [
    "## c"
   ]
  },
  {
   "cell_type": "code",
   "execution_count": 16,
   "metadata": {},
   "outputs": [
    {
     "name": "stdout",
     "output_type": "stream",
     "text": [
      "0176 7.0 Sigrún Ása Jónsdóttir\n",
      "0542 8.0 Kristín Fjóludóttir\n",
      "0970 9.5 Birta Lárusdóttir\n",
      "1419 6.5 Erla Ýr Guðnadóttir\n",
      "1577 7.0 Hulda Ósk Jónasdóttir\n",
      "2785 9.0 Bjarki Már Sveinsson\n",
      "4218 7.0 Kjartan Valur Jónsson\n",
      "4854 9.0 Anton Ingi Þórsson\n",
      "5469 10.0 Íris María Birgisdóttir\n",
      "6324 6.5 Ívar Sigurðsson\n",
      "6558 8.5 Ágúst Guðni Ingason\n",
      "7923 5.5 Steinunn Guðlaug Gunnarsdóttir\n",
      "8003 9.5 Eydís Þorsteinsdóttir\n",
      "8148 5.0 Signý Guðrún Pálsdóttir\n",
      "8492 7.5 Andri Oddur Steinarsson\n",
      "9058 7.5 Elías Ari Heimisson\n",
      "9134 8.0 Aðalheiður Pétursdóttir\n",
      "9158 8.0 Anna Sveinbjörnsdóttir\n",
      "9340 6.5 Bjarni Rúnar Kjartansson\n",
      "9572 8.0 Arna Þórisdóttir\n",
      "9576 5.5 Mark Johnson\n",
      "9595 8.5 Víðir Kristjánsson\n",
      "9649 6.5 Anna Kristinsdóttir\n",
      "9706 9.0 Jónas Valdimarsson\n"
     ]
    }
   ],
   "source": [
    "for i in eink_tafla:\n",
    "    eink = eink_tafla[i]\n",
    "    nafn = eink_nofn[i]\n",
    "    print(i,eink,nafn)"
   ]
  },
  {
   "cell_type": "markdown",
   "metadata": {},
   "source": [
    "## d"
   ]
  },
  {
   "cell_type": "code",
   "execution_count": 20,
   "metadata": {},
   "outputs": [
    {
     "name": "stdout",
     "output_type": "stream",
     "text": [
      "Íris María Birgisdóttir var hæst með 10.0\n"
     ]
    }
   ],
   "source": [
    "def haestaEink(eink,nofn):\n",
    "    nrHaesta = -1\n",
    "    einkHaesta = 0\n",
    "    for i in eink:\n",
    "        if (float(eink[i]) > einkHaesta):\n",
    "            einkHaesta = float(eink[i])\n",
    "            nrHaesta = i\n",
    "    print(f'{nofn[nrHaesta]} var hæst með {einkHaesta}')\n",
    "\n",
    "haestaEink(eink_tafla,eink_nofn)"
   ]
  },
  {
   "cell_type": "markdown",
   "metadata": {},
   "source": [
    "# kosningarúrslit í lit"
   ]
  },
  {
   "cell_type": "markdown",
   "metadata": {},
   "source": [
    "## a,b"
   ]
  },
  {
   "cell_type": "code",
   "execution_count": 46,
   "metadata": {},
   "outputs": [
    {
     "name": "stdout",
     "output_type": "stream",
     "text": [
      "['B' 'C' 'D' 'F' 'J' 'M' 'O' 'P' 'S' 'V' 'Y'] ['34501' '16628' '48708' '17672' '8181' '10879' '836' '17233' '19825'\n",
      " '25114' '144'] ['13' '5' '16' '6' '0' '3' '0' '6' '6' '8' '0']\n",
      "[['D' 'V' 'P' 'B' 'C' 'A' 'S' 'T' 'M' 'R' 'J' 'F' 'O' 'Y']\n",
      " ['#00adef' '#488e41' '#522c7f' '#8ec83e' '#FFA400' '#92278f' '#da2128'\n",
      "  '#eab943' '#199094' '#da2128' '#ff3500' '#ffd600' '#9f522d' '#808080']\n",
      " ['Sjálfstæðisflokkur' 'Vinstri grænir' 'Píratar' 'Framsóknarflokkur'\n",
      "  'Viðreisn' 'Björt framtíð' 'Samfylking' 'Dögun' 'Miðflokkur'\n",
      "  'Alþýðufylking' 'Sósíalistaflokkur' 'Flokkur fólksins'\n",
      "  'Frjálslyndi lýðræðisfl.' 'Ábyrg framtíð']]\n"
     ]
    }
   ],
   "source": [
    "import numpy as np\n",
    "\n",
    "def lesaurslit():\n",
    "    (listi,atkv,saeti) = np.loadtxt(\"https://cs.hi.is/python/kosningar-2021.txt\",skiprows=1, usecols=(0,1,2),dtype=str).T\n",
    "    return (listi,atkv,saeti)\n",
    "\n",
    "def lesalitinofn():\n",
    "    litir = np.loadtxt(\"https://cs.hi.is/python/flokkslitir.txt\",skiprows=1,dtype=str,comments=None,delimiter=',').T\n",
    "    return litir\n",
    "\n",
    "(l,a,s) = lesaurslit()\n",
    "litir = lesalitinofn()\n",
    "print(l,a,s)\n",
    "print(litir)\n",
    "\n"
   ]
  },
  {
   "cell_type": "markdown",
   "metadata": {},
   "source": [
    "## c"
   ]
  },
  {
   "cell_type": "code",
   "execution_count": null,
   "metadata": {},
   "outputs": [],
   "source": [
    "def litirognofn(listi,stafur,litur,nafn):\n",
    "    litir = {}\n",
    "    nofn = {}\n",
    "    "
   ]
  }
 ],
 "metadata": {
  "interpreter": {
   "hash": "d81070026743709bb9828d5354e0a026335c39c8cec37d047fb4b5fc369d19fc"
  },
  "kernelspec": {
   "display_name": "Python 3.10.0 64-bit",
   "language": "python",
   "name": "python3"
  },
  "language_info": {
   "codemirror_mode": {
    "name": "ipython",
    "version": 3
   },
   "file_extension": ".py",
   "mimetype": "text/x-python",
   "name": "python",
   "nbconvert_exporter": "python",
   "pygments_lexer": "ipython3",
   "version": "3.10.0"
  },
  "orig_nbformat": 4
 },
 "nbformat": 4,
 "nbformat_minor": 2
}
