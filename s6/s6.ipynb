{
 "cells": [
  {
   "cell_type": "markdown",
   "metadata": {},
   "source": [
    "# 22 málmavinnsla"
   ]
  },
  {
   "cell_type": "markdown",
   "metadata": {},
   "source": [
    "## a)"
   ]
  },
  {
   "cell_type": "code",
   "execution_count": 3,
   "metadata": {},
   "outputs": [
    {
     "name": "stdout",
     "output_type": "stream",
     "text": [
      "2\n",
      "10\n",
      "18\n",
      "36\n",
      "54\n",
      "86\n",
      "118\n"
     ]
    }
   ],
   "source": [
    "def sk(k):\n",
    "    out = ((k+1)*(k+2)*(k+3))//6\n",
    "    if (k%2==0): out += (k//2)-1\n",
    "    else: out += -2\n",
    "    return out\n",
    "\n",
    "print(sk(1))\n",
    "print(sk(2))\n",
    "print(sk(3))\n",
    "print(sk(4))\n",
    "print(sk(5))\n",
    "print(sk(6))\n",
    "print(sk(7))"
   ]
  },
  {
   "cell_type": "markdown",
   "metadata": {},
   "source": [
    "## b)"
   ]
  },
  {
   "cell_type": "code",
   "execution_count": 11,
   "metadata": {},
   "outputs": [
    {
     "name": "stdout",
     "output_type": "stream",
     "text": [
      "5\n",
      "6\n",
      "6\n",
      "11\n",
      "3\n",
      "1\n",
      "6\n",
      "17\n"
     ]
    }
   ],
   "source": [
    "def lota(s):\n",
    "    for i in range(2,8):\n",
    "        if (s > sk(i-1) and s <= sk(i)): return i\n",
    "\n",
    "def flokkur(s):\n",
    "    k = lota(s)\n",
    "    if (s == 1): return 1\n",
    "    elif (s > 1 and s <= sk(k-1)+2): return s-sk(k-1)\n",
    "    else: return max(3,18+s-sk(k))\n",
    "\n",
    "print(lota(42))\n",
    "print(flokkur(42))\n",
    "print(lota(79))\n",
    "print(flokkur(79))\n",
    "print(lota(11))\n",
    "print(flokkur(11))\n",
    "print(lota(85))\n",
    "print(flokkur(85))"
   ]
  },
  {
   "cell_type": "markdown",
   "metadata": {},
   "source": [
    "## c)"
   ]
  },
  {
   "cell_type": "code",
   "execution_count": 54,
   "metadata": {},
   "outputs": [
    {
     "name": "stdout",
     "output_type": "stream",
     "text": [
      "litín        Lithium\n",
      "beryllín     Beryllium\n",
      "natrín       Sodium\n",
      "magnesín     Magnesium\n",
      "ál           Aluminum\n",
      "kalín        Potassium\n",
      "kalsín       Calcium\n",
      "skandín      Scandium\n",
      "títan        Titanium\n",
      "vanadín      Vanadium\n",
      "króm         Chromium\n",
      "mangan       Manganese\n",
      "járn         Iron\n",
      "kóbalt       Cobalt\n",
      "nikkel       Nickel\n",
      "kopar        Copper\n",
      "sink         Zinc\n",
      "gallín       Gallium\n",
      "rúbidín      Rubidium\n",
      "strontín     Strontium\n",
      "yttrín       Yttrium\n",
      "sirkon       Zirconium\n",
      "níóbín       Niobium\n",
      "mólýbden     Molybdenum\n",
      "teknetín     Technetium\n",
      "rúþen        Ruthenium\n",
      "ródín        Rhodium\n",
      "palladín     Palladium\n",
      "silfur       Silver\n",
      "kadmín       Cadmium\n",
      "indín        Indium\n",
      "tin          Tin\n",
      "sesín        Cesium\n",
      "barín        Barium\n",
      "lantan       Lanthanum\n",
      "serín        Cerium\n",
      "praseódým    Praseodymium\n",
      "neódým       Neodymium\n",
      "prometín     Promethium\n",
      "samarín      Samarium\n",
      "evrópín      Europium\n",
      "gadólín      Gadolinium\n",
      "terbín       Terbium\n",
      "dysprósín    Dysprosium\n",
      "hólmín       Holmium\n",
      "erbín        Erbium\n",
      "túlín        Thulium\n",
      "ytterbín     Ytterbium\n",
      "lútetín      Lutetium\n",
      "hafnín       Hafnium\n",
      "tantal       Tantalum\n",
      "volfram      Tungsten\n",
      "renín        Rhenium\n",
      "osmín        Osmium\n",
      "iridín       Iridium\n",
      "platína      Platinum\n",
      "gull         Gold\n",
      "kvikasilfur  Mercury\n",
      "þallín       Thallium\n",
      "blý          Lead\n",
      "bismút       Bismuth\n",
      "pólon        Polonium\n",
      "fransín      Francium\n",
      "radín        Radium\n",
      "aktín        Actinium\n",
      "þórín        Thorium\n",
      "prótaktín    Protactinium\n",
      "úran         Uranium\n",
      "neptún       Neptunium\n",
      "plúton       Plutonium\n",
      "[('aktín', 'Actinium'), ('ál', 'Aluminum'), ('barín', 'Barium'), ('beryllín', 'Beryllium'), ('bismút', 'Bismuth'), ('blý', 'Lead'), ('dysprósín', 'Dysprosium'), ('erbín', 'Erbium'), ('evrópín', 'Europium'), ('fransín', 'Francium'), ('gadólín', 'Gadolinium'), ('gallín', 'Gallium'), ('gull', 'Gold'), ('hafnín', 'Hafnium'), ('hólmín', 'Holmium'), ('indín', 'Indium'), ('iridín', 'Iridium'), ('járn', 'Iron'), ('kadmín', 'Cadmium'), ('kalín', 'Potassium'), ('kalsín', 'Calcium'), ('kopar', 'Copper'), ('kóbalt', 'Cobalt'), ('króm', 'Chromium'), ('kvikasilfur', 'Mercury'), ('lantan', 'Lanthanum'), ('litín', 'Lithium'), ('lútetín', 'Lutetium'), ('magnesín', 'Magnesium'), ('mangan', 'Manganese'), ('mólýbden', 'Molybdenum'), ('natrín', 'Sodium'), ('neódým', 'Neodymium'), ('neptún', 'Neptunium'), ('nikkel', 'Nickel'), ('níóbín', 'Niobium'), ('osmín', 'Osmium'), ('palladín', 'Palladium'), ('platína', 'Platinum'), ('plúton', 'Plutonium'), ('pólon', 'Polonium'), ('praseódým', 'Praseodymium'), ('prometín', 'Promethium'), ('prótaktín', 'Protactinium'), ('radín', 'Radium'), ('renín', 'Rhenium'), ('ródín', 'Rhodium'), ('rúbidín', 'Rubidium'), ('rúþen', 'Ruthenium'), ('samarín', 'Samarium'), ('serín', 'Cerium'), ('sesín', 'Cesium'), ('silfur', 'Silver'), ('sink', 'Zinc'), ('sirkon', 'Zirconium'), ('skandín', 'Scandium'), ('strontín', 'Strontium'), ('tantal', 'Tantalum'), ('teknetín', 'Technetium'), ('terbín', 'Terbium'), ('tin', 'Tin'), ('títan', 'Titanium'), ('túlín', 'Thulium'), ('úran', 'Uranium'), ('vanadín', 'Vanadium'), ('volfram', 'Tungsten'), ('ytterbín', 'Ytterbium'), ('yttrín', 'Yttrium'), ('þallín', 'Thallium'), ('þórín', 'Thorium')]\n"
     ]
    }
   ],
   "source": [
    "import numpy as np\n",
    "\n",
    "f = \"https://cs.hi.is/python/allir-malmar.txt\"\n",
    "all = np.loadtxt(f, skiprows=1, delimiter=';', dtype='str', encoding='UTF-8').T\n",
    "eTakn    = all[0].tolist()\n",
    "nafn        = all[1].tolist()\n",
    "sTala   = all[2].astype(int)\n",
    "A3          = np.char.replace(all[3], \",\", \".\")\n",
    "eThyngd  = A3.astype(float)\n",
    "bMark = all[4].astype(int)\n",
    "eNafn  = all[5].tolist()\n",
    "\n",
    "def islenska(s):\n",
    "    \"\"\"notað sem 'key' í sort eða sorted til að raða í íslenska stafrófsröð,\n",
    "    t.d. print(sorted(['ár','bára','bali','akur'], key=íslenska))\"\"\"\n",
    "    return [islenska.k.get(c.lower(),0) for c in s]\n",
    "\n",
    "islenska.a = list('0123456789aábcdðeéfghiíjklmnoópqrstuúvwxyýzþæö')\n",
    "islenska.k = dict(zip(islenska.a, range(1,len(islenska.a)+1)))\n",
    "\n",
    "tafla = dict(zip(nafn,eNafn))\n",
    "for (nafn, eNafn) in tafla.items():\n",
    "    print(f'{nafn:13}{eNafn}')\n",
    "    \n",
    "radad = sorted(tafla,key=islenska)\n",
    "alltradad = []\n",
    "for i in radad:\n",
    "    alltradad.append((i,tafla[i]))\n",
    "\n",
    "print(alltradad)"
   ]
  },
  {
   "cell_type": "markdown",
   "metadata": {},
   "source": [
    "## d)"
   ]
  },
  {
   "cell_type": "code",
   "execution_count": null,
   "metadata": {},
   "outputs": [],
   "source": []
  },
  {
   "cell_type": "markdown",
   "metadata": {},
   "source": [
    "# 26 körfuboltamenn"
   ]
  },
  {
   "cell_type": "markdown",
   "metadata": {},
   "source": [
    "## a)"
   ]
  },
  {
   "cell_type": "code",
   "execution_count": 49,
   "metadata": {},
   "outputs": [
    {
     "data": {
      "image/png": "[encoded data removed]",
      "text/plain": [
       "<Figure size 2160x432 with 1 Axes>"
      ]
     },
     "metadata": {
      "needs_background": "light"
     },
     "output_type": "display_data"
    }
   ],
   "source": [
    "import numpy as np\n",
    "import matplotlib.pyplot as plt\n",
    "\n",
    "a,h,th = np.loadtxt('https://cs.hi.is/python/karfa.txt').T\n",
    "n = [i for i in range(1,len(a)+1)]\n",
    "# print(n)\n",
    "\n",
    "# plt.figure(figsize=(30,6))\n",
    "plt.xlabel('Nr. leikmanns')\n",
    "plt.ylabel('Aldur leikmanns í árum')\n",
    "plt.xlim(0,1065)\n",
    "aBar = plt.bar(n,a,1)\n",
    "for i in aBar:\n",
    "    if((i.xy[0]-0.5)%2 == 0): i.set_color('r')\n",
    "    \n",
    "plt.show()\n",
    "\n",
    "# plt.bar(n,h)\n",
    "\n",
    "# plt.bar(n,th)\n"
   ]
  }
 ],
 "metadata": {
  "interpreter": {
   "hash": "2be5faf79681da6f2a61fdfdd5405d65d042280f7fba6178067603e3a2925119"
  },
  "kernelspec": {
   "display_name": "Python 3.10.0 64-bit",
   "language": "python",
   "name": "python3"
  },
  "language_info": {
   "codemirror_mode": {
    "name": "ipython",
    "version": 3
   },
   "file_extension": ".py",
   "mimetype": "text/x-python",
   "name": "python",
   "nbconvert_exporter": "python",
   "pygments_lexer": "ipython3",
   "version": "3.10.0"
  },
  "orig_nbformat": 4
 },
 "nbformat": 4,
 "nbformat_minor": 2
}
