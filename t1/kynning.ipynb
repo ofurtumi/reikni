{
  "cells": [
    {
      "cell_type": "markdown",
      "metadata": {
        "id": "XsC9WAX2Wkbn"
      },
      "source": [
        "# **Kynning á Google Colab og Python**\n",
        "Byrjið á að vista þessa skrá á eigin drifi hjá Google með því að velja *Copy to Drive*. Endurnefnið hana t.d. `kynning-XX.ipynb` þar sem XX eru upphafsstafir ykkar (með því að smella á nafn skrárinnar efst t.v.)"
      ]
    },
    {
      "cell_type": "markdown",
      "metadata": {
        "id": "wMHrg3jTWkbr"
      },
      "source": [
        "## A. Stutt æfing í Colab textareitum\n",
        "Skoðið ósniðna textann í þessum reit með því að tvísmella á hann.\n",
        "\n",
        "1. Búið til nýjan textareit neðan við þennan og setjið tveggja krossa (##) fyrirsögn að eigin vali í hann. Búið til þriðja reitinn líka með ##-fyrirsögn og loks þann fjórða með #-fyrirsögn. Skoðið efnisyfirlitið með því að opna vinstri panel.\n",
        "\n",
        "2. Prófið feitletrun og skáletrun með \\*\\*feitt\\*\\* og \\*ská\\*. Prófið að afturkalla breytingu (*undo*) með ctrl/z (⌘z á Mac) og endurtaka (*redo*) með ctrl/shift/z (⌘-shift/z á Mac). Prófið að eyða reit með *Edit→Delete cell* og afturkalla eyðinguna með *Edit→Undo...*.\n",
        "\n",
        "3. Skoðið hér á eftir hvernig settja má reiknirit og forrit inn í textareit (reikniritið er inndregið um 4 bil). Prófið að breyta (t.d. sleppa auðu línunum, auka/minnka inndrátt, breyta forritinu)\n",
        "\n",
        "Reiknirit:\n",
        "n = 10\n",
        "fyrir i=1,...,n\n",
        "prenta i\n",
        "Python forrit:\n",
        "```python\n",
        "n = 10\n",
        "for i in range(1,n+1):\n",
        "    print(i)\n",
        "```\n"
      ]
    },
    {
      "cell_type": "markdown",
      "metadata": {},
      "source": [
        "## 2. stigs heading"
      ]
    },
    {
      "cell_type": "markdown",
      "metadata": {},
      "source": [
        "# 1. stigs heading\n",
        "**feitt**\n",
        "*ská*\n"
      ]
    },
    {
      "cell_type": "markdown",
      "metadata": {},
      "source": [
        "## 2. stigs heading nr 2"
      ]
    },
    {
      "cell_type": "markdown",
      "metadata": {
        "id": "w7VJS0HgWkbs"
      },
      "source": [
        "## B. Æfing í skrám\n",
        "1. Prófið skipanir í **File** valmyndinni, m.a. *New notebook*, *Locate in Drive*, *Download*, *Rename*. Takið eftir að nýjar vinnubækur lenda í undirmöppu sem heitir \"Colab Notebooks\"\n",
        "2. Veljið *Colab Notebooks* flipann (sem varð til með *Locate in Drive*) og búið til nýja möppu með *New→Folder* (eða *Nýtt→Mappa*) og kallið hana t.d. T1a. Farið aftur í vinnubókarflipann, veljið *File→Move* og færið bókina í nýju möppuna. Skoðið hvað gerðist í *Drive*-flipanum.\n",
        "3. Það er líka hægt að nota *drag-and-drop* til að færa skrár. Prófið það."
      ]
    },
    {
      "cell_type": "markdown",
      "metadata": {
        "id": "J1KhsUNCWkbt"
      },
      "source": [
        "## C. Breytur og tög\n",
        "\n",
        "Grunntögin í Python eru:\n",
        "- rökgildi (bool): `True` og `False`\n",
        "- strengir (str) `'strengur`, `\"42\"`\n",
        "- heiltölur (int): `444`\n",
        "- kommutölur (float): `-3.14159`, `1e100`\n",
        "\n",
        "Colab (og JupyterLab) eru með fall `display` til að skrifa út gildi, stundum einfaldara eða læsilegra en fæst með `print`. Skoðið eftirfarandi reit og prófið að breyta honum.\n"
      ]
    },
    {
      "cell_type": "code",
      "execution_count": 1,
      "metadata": {
        "id": "nNMJBwz9Wkbu"
      },
      "outputs": [
        {
          "name": "stdout",
          "output_type": "stream",
          "text": [
            "<class 'int'>\n"
          ]
        },
        {
          "data": {
            "text/plain": [
              "int"
            ]
          },
          "metadata": {},
          "output_type": "display_data"
        },
        {
          "data": {
            "text/plain": [
              "float"
            ]
          },
          "metadata": {},
          "output_type": "display_data"
        },
        {
          "data": {
            "text/plain": [
              "(str, bool, bool)"
            ]
          },
          "execution_count": 1,
          "metadata": {},
          "output_type": "execute_result"
        }
      ],
      "source": [
        "k = 3\n",
        "print(type(k))    # til að finna tag gildis má nota type\n",
        "display(type(k))  # display skrifar öðruvísi en print\n",
        "k = 3.4\n",
        "display(type(k))\n",
        "type('strengur'), type(k > 4), type(False) # þetta skrifast í raun með display"
      ]
    },
    {
      "cell_type": "markdown",
      "metadata": {
        "id": "ZYyGQ3KOWkbv"
      },
      "source": [
        "## D. Meira um print\n",
        "Prófið að breyta einhverju hér. Prófið líka að prenta `5*st`."
      ]
    },
    {
      "cell_type": "code",
      "execution_count": 5,
      "metadata": {
        "id": "RYwAV1URWkbw"
      },
      "outputs": [
        {
          "name": "stdout",
          "output_type": "stream",
          "text": [
            "Strengur Strengur Strengur\n",
            "Strengur Strengur\n",
            "Strengur, Strengur\n",
            "st = Strengur\n"
          ]
        }
      ],
      "source": [
        "st = \"Strengur\"\n",
        "bil = \" \"\n",
        "print(2*(st+bil) + st)          # skeytir saman strengjum, ekkert bil\n",
        "print(st, st)           # setur bil á milli\n",
        "print(st, st, sep=\", \") # separator\n",
        "print(\"st = \", end=\"\")  # fer ekki í næstu línu\n",
        "print(st)"
      ]
    },
    {
      "cell_type": "markdown",
      "metadata": {
        "id": "5Kxo7gIFWkbw"
      },
      "source": [
        "## E. Úskrift með F-strengjum\n",
        "1. Prentið strenginn s með f-streng og `{s:5}`, `{s:<5}`, `{s:>5}`\n",
        "2. Prentið heiltöluna k með `{k:5}`, `{k:<5}` og `{k:>5}`"
      ]
    },
    {
      "cell_type": "code",
      "execution_count": 8,
      "metadata": {
        "id": "YhdsEHVsWkbx"
      },
      "outputs": [
        {
          "name": "stdout",
          "output_type": "stream",
          "text": [
            "abc  , abc  ,   abc\n",
            "   12, 12   ,    12\n",
            "Jón er 13 ára\n",
            "e = 2.718\n",
            "e =  2.718\n"
          ]
        }
      ],
      "source": [
        "e = 2.7182818\n",
        "k = 12\n",
        "s = 'abc'\n",
        "print(f'{s:5}, {s:<5}, {s:>5}')\n",
        "print(f'{k:5}, {k:<5}, {k:>5}')\n",
        "print(f\"Jón er {k+1} ára\") # slaufusvigar utan um segð\n",
        "print(f'e = {e:.3f}')      # 3 aukastafir\n",
        "print(f'e = {e:6.3f}')     # 6 stafa breitt svið, 3 aukast."
      ]
    },
    {
      "cell_type": "markdown",
      "metadata": {
        "id": "wpZBkMQxWkbx"
      },
      "source": [
        "## F. Strengir\n",
        "\n",
        "1. Skv. næstneðstu línunni hér að neðan er ekki hægt að stjórna fjölda aukastafa með `str`, en það er hægt með f-streng. Búið til f-streng sem gefur e með þremur aukastöfum.\n",
        "2. Setjið # fremst í neðstu línuna til að losna við villuna (þetta er kallað að \"kommentera línuna út\"\n",
        "3. Búið til (í nýjum reit) strengi með fornafni ykkar, millinafni (ef við á) og eftirnafni, og búið svo til streng með fullu nafni með + (notið \" \" til að fá bilin á milli).\n"
      ]
    },
    {
      "cell_type": "code",
      "execution_count": 15,
      "metadata": {
        "id": "IeJl3jAaWkbx"
      },
      "outputs": [
        {
          "name": "stdout",
          "output_type": "stream",
          "text": [
            "2\n",
            "axy\n",
            "aaaaaxyxyxy\n",
            "x = 13\n",
            "e = 2.71828\n",
            "2.718\n"
          ]
        }
      ],
      "source": [
        "a = 'a'\n",
        "b = 'xy'\n",
        "x = 13\n",
        "e = 2.71828\n",
        "print(len(b))           # lengd strengsins\n",
        "print(a + b)            # samskeyting\n",
        "print(a*5 + b*3)        # margföldun er eins og margir plúsar\n",
        "print(\"x = \" + str(x))  # str breytir heiltölu í streng\n",
        "print(\"e = \" + str(e))  # og líka kommutölu – en ekki hægt að stjórna aukastafafjölda\n",
        "#print(\"x = \" + x)       # tölum er ekki breytt sjálfkrafa í strengi\n",
        "print(f'{e:.3f}')"
      ]
    },
    {
      "cell_type": "code",
      "execution_count": 16,
      "metadata": {},
      "outputs": [
        {
          "name": "stdout",
          "output_type": "stream",
          "text": [
            "Þorvaldur Tumi Baldursson\n"
          ]
        }
      ],
      "source": [
        "fn = \"Þorvaldur\"\n",
        "mn = \"Tumi\"\n",
        "en = \"Baldursson\"\n",
        "nafn = fn + \" \" + mn + \" \" + en\n",
        "print(nafn)"
      ]
    },
    {
      "cell_type": "markdown",
      "metadata": {
        "id": "_PaGL2uSWkby"
      },
      "source": [
        "## G. Hlutstrengir\n",
        "Við getum vísað í hluta af streng með\n",
        "\n",
        "- einni tölu, byrjað að telja í 0, t.d. `s[0]`\n",
        "- bili, `s[0:5]` \n",
        "- frá byrjun: `s[:5]`, eða út í enda: `s[1:]`\n",
        "- og talið aftur á bak `s[-1]`\n",
        "\n",
        "Í reitnum á eftir er fyrsti stafur strengsins skrifaður. \n",
        "1. Prófið alla hina möguleikana.\n",
        "2. Hvernig má velja frá og með sæti 2 til og með næstsíðasta sætisins?"
      ]
    },
    {
      "cell_type": "code",
      "execution_count": 19,
      "metadata": {
        "id": "_CAFG7lAWkby"
      },
      "outputs": [
        {
          "name": "stdout",
          "output_type": "stream",
          "text": [
            "a\n",
            "abcde\n",
            "abcde\n",
            "bcdefg\n",
            "g\n",
            "bcde\n"
          ]
        }
      ],
      "source": [
        "s = \"abcdefg\"\n",
        "print(s[0])\n",
        "print(s[0:5])\n",
        "print(s[:5])\n",
        "print(s[1:])\n",
        "print(s[-1])\n",
        "print(s[1:-2])"
      ]
    },
    {
      "cell_type": "markdown",
      "metadata": {
        "id": "cbL928Z0Wkby"
      },
      "source": [
        "## H. Útreikningur\n",
        "Til upprifjunar: Venjulegar reiknireglur gilda um `+ - * /`, `**` er veldi `%` er afgangur úr deilingu og `//` er heiltöludeiling. Nota má gildisgjöf `+=`. Keyrið eftirfarandi dæmi og skoðið niðurstöðuna vel."
      ]
    },
    {
      "cell_type": "code",
      "execution_count": null,
      "metadata": {
        "id": "xr34c3gpWkbz"
      },
      "outputs": [],
      "source": [
        "a = 4\n",
        "a += 1           # a verður 5\n",
        "print(3 + 4 * a) # 23\n",
        "print((3+4)*a)   # 35\n",
        "print(a/3)\n",
        "print(a//3)\n",
        "print(a % 3)\n",
        "print(4**3)\n",
        "print(4.0**3)\n",
        "print(2**256)"
      ]
    },
    {
      "cell_type": "markdown",
      "metadata": {
        "id": "G-VHlmOaWkbz"
      },
      "source": [
        "## I. Rökgildi (*boolean*)\n",
        "\n",
        "Nota má `==`, `<=`, `>=`, `<`, `>`, `!=` til að bera saman gildi. Svo má tengja með `and`, `or` og `not`. \n",
        "1. Skoðið eftirfarandi dæmi (keyrið). \n",
        "2. Búið til röksegðina $p = 2 < x < 6\\text{ og }x \\neq 3$ og prentið hana út. \n",
        "3. Breytið $x$ í $4$ og reiknið $p$ aftur."
      ]
    },
    {
      "cell_type": "code",
      "execution_count": 21,
      "metadata": {
        "id": "gTp1Rl7EWkbz"
      },
      "outputs": [
        {
          "name": "stdout",
          "output_type": "stream",
          "text": [
            "True\n",
            "True\n",
            "False\n",
            "False\n",
            "True\n"
          ]
        }
      ],
      "source": [
        "x = 3\n",
        "print(0 <= x and x <= 10)\n",
        "print(0 <= x <= 10)       # sama eins og að ofan, skv. stærðfræðihefð\n",
        "print(False or x == 4)    # jafngildir \"False or (x == 4)\" \n",
        "p = 2 < x < 6 and x != 3\n",
        "print(p)\n",
        "x = 4\n",
        "p = 2 < x < 6 and x != 3\n",
        "print(p)"
      ]
    },
    {
      "cell_type": "markdown",
      "metadata": {
        "id": "duZnbRuvWkbz"
      },
      "source": [
        "## J. Ef-setningar\n",
        "\n",
        "Ef-setning framkvæmir blokk skipana ef skilyrði er uppfyllt og aðra blokk ef ekki. Python notar inndrátt til að afmarka blokkirnar. Oft eru notuð 4 bil og það gerir Colab sjálfkrafa. Takið eftir tvípunktunum aftast í stýrilínunum.\n",
        "\n",
        "Það má sleppa **else**-hluta, og það má setja skipun á sömu línu og **if**. Fyrir *else if* er notað `elif`.\n",
        "\n",
        "1. Skoðið hvað eftirfarandi dæmi gerir\n",
        "2. Prófið að láta x vera 0 og keyrið aftur.\n",
        "2. Prófið að láta x vera 30 og keyrið aftur."
      ]
    },
    {
      "cell_type": "code",
      "execution_count": 24,
      "metadata": {
        "id": "ob8lDorgWkbz"
      },
      "outputs": [
        {
          "name": "stdout",
          "output_type": "stream",
          "text": [
            "x er ekki núll\n",
            "x er 30\n",
            "Hér er ef-setningin búin\n",
            "Ekki tími\n"
          ]
        }
      ],
      "source": [
        "x = 30\n",
        "if x == 0:\n",
        "    print(\"x er núll\")\n",
        "else:\n",
        "    print(\"x er ekki núll\")\n",
        "    print(f\"x er {x}\")\n",
        "print(\"Hér er ef-setningin búin\") # ekki hluti af if\n",
        "if x == 10: print(\"OK\")\n",
        "                  \n",
        "if 0 <= x < 12:\n",
        "    print(\"Fyrir hádegi\")\n",
        "elif 12 < x <= 24:\n",
        "    print(\"Eftir hádegi\")\n",
        "elif x == 12:\n",
        "    print(\"Hádegi\")\n",
        "else:\n",
        "    print(\"Ekki tími\")        "
      ]
    }
  ],
  "metadata": {
    "colab": {
      "collapsed_sections": [],
      "name": "kynning.ipynb",
      "provenance": []
    },
    "kernelspec": {
      "display_name": "Python 3",
      "language": "python",
      "name": "python3"
    },
    "language_info": {
      "codemirror_mode": {
        "name": "ipython",
        "version": 3
      },
      "file_extension": ".py",
      "mimetype": "text/x-python",
      "name": "python",
      "nbconvert_exporter": "python",
      "pygments_lexer": "ipython3",
      "version": "3.10.0"
    }
  },
  "nbformat": 4,
  "nbformat_minor": 0
}
