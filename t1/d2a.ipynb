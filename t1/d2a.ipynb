{
 "cells": [
  {
   "cell_type": "code",
   "execution_count": null,
   "metadata": {},
   "outputs": [],
   "source": [
    "def caHeildun (f,a,b):\n",
    "    utkoma = (b-a)(f(a)+f(b))/2\n",
    "    return utkoma"
   ]
  },
  {
   "cell_type": "code",
   "execution_count": 3,
   "metadata": {},
   "outputs": [
    {
     "name": "stdout",
     "output_type": "stream",
     "text": [
      "0.6586304715647094\n",
      "1.7272219045575166\n"
     ]
    }
   ],
   "source": [
    "from math import sin, exp\n",
    "\n",
    "def samsett (f,a,b,n):\n",
    "    deltaX = (b-a)/n\n",
    "    flatarmal = f(a)\n",
    "    iX = a+deltaX\n",
    "    i = 2\n",
    "    while (iX < b):\n",
    "        flatarmal += 2*f(iX)\n",
    "        iX = a+(i*deltaX)\n",
    "        i+=1\n",
    "\n",
    "    flatarmal += f(b)\n",
    "    return flatarmal*(deltaX/2)\n",
    "    \n",
    "def f(x): return sin(x)/x\n",
    "def g(x): return exp(x)\n",
    "\n",
    "print(samsett(f,1,2,4))\n",
    "print(samsett(g,0,1,4))\n",
    "    "
   ]
  }
 ],
 "metadata": {
  "interpreter": {
   "hash": "d81070026743709bb9828d5354e0a026335c39c8cec37d047fb4b5fc369d19fc"
  },
  "kernelspec": {
   "display_name": "Python 3.10.0 64-bit",
   "language": "python",
   "name": "python3"
  },
  "language_info": {
   "codemirror_mode": {
    "name": "ipython",
    "version": 3
   },
   "file_extension": ".py",
   "mimetype": "text/x-python",
   "name": "python",
   "nbconvert_exporter": "python",
   "pygments_lexer": "ipython3",
   "version": "3.10.0"
  },
  "orig_nbformat": 4
 },
 "nbformat": 4,
 "nbformat_minor": 2
}
