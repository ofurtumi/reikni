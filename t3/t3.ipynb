{
 "cells": [
  {
   "cell_type": "markdown",
   "metadata": {},
   "source": [
    "# 6.4"
   ]
  },
  {
   "cell_type": "markdown",
   "metadata": {},
   "source": [
    "## a)"
   ]
  },
  {
   "cell_type": "code",
   "execution_count": 3,
   "metadata": {},
   "outputs": [
    {
     "name": "stdout",
     "output_type": "stream",
     "text": [
      "Hvað eru mörg \"r\" í því? 14\n",
      "Hvar er \"æ\" staðsett? í sæti 43 af 79\n"
     ]
    }
   ],
   "source": [
    "romverskur = \"Rómverskur riddari réðst inn í Rómarborg, rændi þar og ruplaði radísum og rófum\"\n",
    "print(f'Hvað eru mörg \"r\" í því? {romverskur.lower().count(\"r\")}')\n",
    "print(f'Hvar er \"æ\" staðsett? í sæti {romverskur.index(\"æ\")} af {len(romverskur)}')"
   ]
  },
  {
   "cell_type": "markdown",
   "metadata": {},
   "source": [
    "## b)"
   ]
  },
  {
   "cell_type": "code",
   "execution_count": 9,
   "metadata": {},
   "outputs": [
    {
     "name": "stdout",
     "output_type": "stream",
     "text": [
      "-1\n",
      "2\n"
     ]
    }
   ],
   "source": [
    "listi = [1,2,3]\n",
    "\n",
    "def finna(x, a):\n",
    "    if x in a:\n",
    "        # print(f'{x} er í sæti {a.index(x)}')\n",
    "        return a.index(x)\n",
    "    else:\n",
    "        # print(f'{x} er ekki til í lista {a}')\n",
    "        return -1\n",
    "\n",
    "print(finna(4,listi))\n",
    "print(finna(3,listi))"
   ]
  },
  {
   "cell_type": "markdown",
   "metadata": {},
   "source": [
    "## c)"
   ]
  },
  {
   "cell_type": "code",
   "execution_count": 11,
   "metadata": {},
   "outputs": [
    {
     "name": "stdout",
     "output_type": "stream",
     "text": [
      "[1, 2, 3, 1, 2, 3]\n",
      "[1, 2, 3, 1, 2, 3]\n"
     ]
    }
   ],
   "source": [
    "sam1 = listi+listi\n",
    "sam2 = listi*2\n",
    "\n",
    "print(sam1)\n",
    "print(sam2)"
   ]
  },
  {
   "cell_type": "markdown",
   "metadata": {},
   "source": [
    "# 6.5"
   ]
  },
  {
   "cell_type": "code",
   "execution_count": 13,
   "metadata": {},
   "outputs": [
    {
     "name": "stdout",
     "output_type": "stream",
     "text": [
      "[8, 100]\n"
     ]
    }
   ],
   "source": [
    "L = list()\n",
    "M = [7,8]\n",
    "L.append(1)\n",
    "L.append(2)    # Nú er L = [1,2]\n",
    "L.extend(M)    # jafngilt og L = L + M eða L += M\n",
    "L.remove(2)    # Nú er L = [1,7,8]\n",
    "L.pop(1)       # nú er L = [8]\n",
    "L.remove(1)    # nú er L = [8]\n",
    "L.insert(1,100)# nú er L = [8,100]\n",
    "\n",
    "print(L)"
   ]
  },
  {
   "cell_type": "markdown",
   "metadata": {},
   "source": [
    "# 6.6"
   ]
  },
  {
   "cell_type": "markdown",
   "metadata": {},
   "source": [
    "## a)"
   ]
  },
  {
   "cell_type": "code",
   "execution_count": 17,
   "metadata": {},
   "outputs": [
    {
     "name": "stdout",
     "output_type": "stream",
     "text": [
      "Ari\n",
      "Ása\n",
      "Fía\n",
      "Jói\n",
      "Nói\n",
      "1. Ari\n",
      "2. Ása\n",
      "3. Fía\n",
      "4. Jói\n",
      "5. Nói\n"
     ]
    }
   ],
   "source": [
    "L = [\"Ari\", \"Ása\", \"Fía\", \"Jói\", \"Nói\"]\n",
    "for x in L:\n",
    "    print(x)"
   ]
  },
  {
   "cell_type": "code",
   "execution_count": 25,
   "metadata": {},
   "outputs": [
    {
     "name": "stdout",
     "output_type": "stream",
     "text": [
      "1. Ari\n",
      "2. Ása\n",
      "3. Fía\n",
      "4. Jói\n",
      "5. Nói\n"
     ]
    }
   ],
   "source": [
    "for (i,x) in enumerate(L,1):\n",
    "    print(f'{i}. {x}')"
   ]
  },
  {
   "cell_type": "markdown",
   "metadata": {},
   "source": [
    "# 6.7"
   ]
  },
  {
   "cell_type": "markdown",
   "metadata": {},
   "source": [
    "## a)"
   ]
  },
  {
   "cell_type": "code",
   "execution_count": 24,
   "metadata": {},
   "outputs": [
    {
     "name": "stdout",
     "output_type": "stream",
     "text": [
      "[1, 2, 4, 8, 16, 32, 64, 128, 256, 512, 1024]\n"
     ]
    }
   ],
   "source": [
    "veldi = [2**k for k in range(11)]\n",
    "print(veldi)\n"
   ]
  },
  {
   "cell_type": "markdown",
   "metadata": {},
   "source": [
    "## b)"
   ]
  },
  {
   "cell_type": "code",
   "execution_count": null,
   "metadata": {},
   "outputs": [],
   "source": [
    "x = [3,4,0,2,0,8,5]\n",
    "y = [i for i in x if i % 2 == 0]\n",
    "print(y)"
   ]
  },
  {
   "cell_type": "markdown",
   "metadata": {},
   "source": [
    "# 7.6"
   ]
  },
  {
   "cell_type": "code",
   "execution_count": 26,
   "metadata": {},
   "outputs": [
    {
     "name": "stdout",
     "output_type": "stream",
     "text": [
      "{0: 0, 1: -1, 2: 0, 3: 3, 4: 8, 5: 15}\n"
     ]
    }
   ],
   "source": [
    "formengi = [0,1,2,3,4,5]\n",
    "bakmengi = {}\n",
    "for i in formengi:\n",
    "    bakmengi[i] = (i**2)-(2*i)\n",
    "\n",
    "print(bakmengi)"
   ]
  },
  {
   "cell_type": "markdown",
   "metadata": {},
   "source": [
    "# 9 uppflettitafla afturábak"
   ]
  },
  {
   "cell_type": "markdown",
   "metadata": {},
   "source": [
    "## a)"
   ]
  },
  {
   "cell_type": "code",
   "execution_count": 36,
   "metadata": {},
   "outputs": [
    {
     "name": "stdout",
     "output_type": "stream",
     "text": [
      "{'rope': 'reipi', 'house': 'hús', 'red': 'rauður'}\n"
     ]
    }
   ],
   "source": [
    "islens = {\n",
    "    \"reipi\":\"rope\",\n",
    "    \"hús\":\"house\",\n",
    "    \"rauður\":\"red\",\n",
    "}\n",
    "\n",
    "def snuavid(U):\n",
    "    keys = list(U.keys())\n",
    "    out = {}\n",
    "    for (i,item) in enumerate(U,0):\n",
    "        out[U[item]] = keys[i]\n",
    "\n",
    "    return out\n",
    "\n",
    "print(snuavid(islens))"
   ]
  }
 ],
 "metadata": {
  "interpreter": {
   "hash": "d81070026743709bb9828d5354e0a026335c39c8cec37d047fb4b5fc369d19fc"
  },
  "kernelspec": {
   "display_name": "Python 3.10.0 64-bit",
   "language": "python",
   "name": "python3"
  },
  "language_info": {
   "codemirror_mode": {
    "name": "ipython",
    "version": 3
   },
   "file_extension": ".py",
   "mimetype": "text/x-python",
   "name": "python",
   "nbconvert_exporter": "python",
   "pygments_lexer": "ipython3",
   "version": "3.10.0"
  },
  "orig_nbformat": 4
 },
 "nbformat": 4,
 "nbformat_minor": 2
}
