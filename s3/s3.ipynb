{
 "cells": [
  {
   "cell_type": "markdown",
   "metadata": {},
   "source": [
    "# 5 kvaðratrót"
   ]
  },
  {
   "cell_type": "markdown",
   "metadata": {},
   "source": [
    "## a)"
   ]
  },
  {
   "cell_type": "code",
   "execution_count": 4,
   "metadata": {},
   "outputs": [
    {
     "name": "stdout",
     "output_type": "stream",
     "text": [
      "svör námunduð að fyrstu 5 aukastöfum\n",
      "rót af 9: 3.00000\n",
      "rót af 10: 3.16228\n"
     ]
    }
   ],
   "source": [
    "from math import sqrt\n",
    "\n",
    "def krot(a):\n",
    "    eps = 10**-4\n",
    "    x = 1\n",
    "    while (True):\n",
    "        y = 0.5*(x+(a/x))\n",
    "        if abs(x-y) < eps: break\n",
    "        x = y\n",
    "\n",
    "    return y\n",
    "\n",
    "sqrt9 = krot(9)\n",
    "sqrt10 = krot(10)\n",
    "print(\"svör námunduð að fyrstu 5 aukastöfum\")\n",
    "print(f'rót af 9: {sqrt9:.5f}')\n",
    "print(f'rót af 10: {sqrt10:.5f}')"
   ]
  },
  {
   "cell_type": "markdown",
   "metadata": {},
   "source": [
    "## b)"
   ]
  },
  {
   "cell_type": "code",
   "execution_count": 10,
   "metadata": {},
   "outputs": [
    {
     "name": "stdout",
     "output_type": "stream",
     "text": [
      "útkomur námundaðar að 3ja aukastaf nema munur, til að halda gögnunum réttum\n",
      "\n",
      "test #1\n",
      "test1, a: 8239, eps: 0.1\n",
      "lokaútkoma: 90.769, fjöldi ítranna: 10\n",
      "rétt rót: 90.769, munur: 2.8818931241403334e-08\n",
      "\n",
      "test #2\n",
      "test1, a: 8239, eps: 0.001\n",
      "lokaútkoma: 90.769, fjöldi ítranna: 11\n",
      "rétt rót: 90.769, munur: 0.0\n",
      "\n",
      "test #3\n",
      "test1, a: 8239, eps: 1e-05\n",
      "lokaútkoma: 90.769, fjöldi ítranna: 11\n",
      "rétt rót: 90.769, munur: 0.0\n",
      "\n",
      "test #4\n",
      "test1, a: 10, eps: 0.1\n",
      "lokaútkoma: 3.162, fjöldi ítranna: 4\n",
      "rétt rót: 3.162, munur: 0.00017796263551028701\n",
      "\n",
      "test #5\n",
      "test1, a: 10, eps: 0.001\n",
      "lokaútkoma: 3.162, fjöldi ítranna: 5\n",
      "rétt rót: 3.162, munur: 5.007295467152062e-09\n",
      "\n",
      "test #6\n",
      "test1, a: 10, eps: 1e-05\n",
      "lokaútkoma: 3.162, fjöldi ítranna: 6\n",
      "rétt rót: 3.162, munur: 4.440892098500626e-16\n",
      "\n"
     ]
    }
   ],
   "source": [
    "from math import sqrt\n",
    "\n",
    "def krot2(a, eps):\n",
    "    x = 1\n",
    "    cnt = 0\n",
    "    while (True):\n",
    "        cnt+=1\n",
    "        y = 0.5*(x+(a/x))\n",
    "        if abs(x-y) < eps: break\n",
    "        x = y\n",
    "    print(f'test1, a: {a}, eps: {eps}')\n",
    "    print(f'lokaútkoma: {y:.3f}, fjöldi ítranna: {cnt}')\n",
    "    print(f'rétt rót: {sqrt(a):.3f}, munur: {abs(y-sqrt(a))}')\n",
    "    return y, cnt\n",
    "\n",
    "\n",
    "print(\"útkomur námundaðar að 3ja aukastaf nema munur, til að halda gögnunum réttum\")\n",
    "print(\"\\ntest #1\")\n",
    "krot2(8239,0.1)\n",
    "print(\"\\ntest #2\")\n",
    "krot2(8239,0.001)\n",
    "print(\"\\ntest #3\")\n",
    "krot2(8239,0.00001)\n",
    "print(\"\\ntest #4\")\n",
    "krot2(10,0.1)\n",
    "print(\"\\ntest #5\")\n",
    "krot2(10,0.001)\n",
    "print(\"\\ntest #6\")\n",
    "krot2(10,0.00001)\n",
    "print()"
   ]
  },
  {
   "cell_type": "markdown",
   "metadata": {},
   "source": [
    "Niðurstöðurnar úr fallinu eru frekar nákvæmar og meira en nægilega nákvæmar fyrir nokkurskonar praktíska notkun, ég námundaði ræturnar að 3 aukastöfum einfaldlega til þess að gera outputið aðeins fallegra"
   ]
  },
  {
   "cell_type": "markdown",
   "metadata": {},
   "source": [
    "# 6 meðaltal og staðafrávik"
   ]
  },
  {
   "cell_type": "code",
   "execution_count": 12,
   "metadata": {},
   "outputs": [
    {
     "name": "stdout",
     "output_type": "stream",
     "text": [
      "(4.5, 3.0)\n",
      "(672.0, 1150.9487390844129)\n"
     ]
    }
   ],
   "source": [
    "def tolfraedi(x):\n",
    "    n = len(x)\n",
    "    m = sum(x)*(1/n)\n",
    "    sum2 = 0\n",
    "    for i in x:\n",
    "        sum2+=(i-m)**2\n",
    "    s = sqrt((1/(n-1))*sum2)\n",
    "    return m,s\n",
    "\n",
    "x = [3,7,7,1]\n",
    "print(tolfraedi(x))\n",
    "print(tolfraedi([6,9,2001]))\n"
   ]
  },
  {
   "cell_type": "markdown",
   "metadata": {},
   "source": [
    "# 7 bóluröðun"
   ]
  },
  {
   "cell_type": "code",
   "execution_count": 23,
   "metadata": {},
   "outputs": [
    {
     "name": "stdout",
     "output_type": "stream",
     "text": [
      "x óraðað\n",
      "[3, 8, 1, 2, 5, 4]\n",
      "x raðað\n",
      "[1, 2, 3, 4, 5, 8]\n",
      "\n",
      "y: 50 staka fylki með handahófskendum tölum frá 1-100\n",
      "y óraðað\n",
      "[86 92 43 59 38 42 26 92 83 42 87 73  7 71  1 22 92 71 43 74 21 53 35 68\n",
      " 83 15 99 82 18 29 79 55 18 74 75 80 99  7 76 88 41 59 68 22 14 30 42 92\n",
      " 77 82]\n",
      "y raðað\n",
      "[ 1  7  7 14 15 18 18 21 22 22 26 29 30 35 38 41 42 42 42 43 43 53 55 59\n",
      " 59 68 68 71 71 73 74 74 75 76 77 79 80 82 82 83 83 86 87 88 92 92 92 92\n",
      " 99 99]\n"
     ]
    }
   ],
   "source": [
    "import numpy as np \n",
    "\n",
    "def bolurodun(x):\n",
    "    vixl = True\n",
    "    while(vixl):\n",
    "        vixl = False\n",
    "        for i in range(1, len(x)):\n",
    "            if (x[i-1] > x[i]):\n",
    "                (x[i-1],x[i]) = (x[i], x[i-1])\n",
    "                vixl = True\n",
    "\n",
    "x = [3,8,1,2,5,4]\n",
    "y = np.random.randint(1,100,50)\n",
    "print(\"x óraðað\")\n",
    "print(x)\n",
    "bolurodun(x)\n",
    "print(\"x raðað\")\n",
    "print(x)\n",
    "print()\n",
    "print(\"y: 50 staka fylki með handahófskendum tölum frá 1-100\")\n",
    "print(\"y óraðað\")\n",
    "print(y)\n",
    "bolurodun(y)\n",
    "print(\"y raðað\")\n",
    "print(y)"
   ]
  },
  {
   "cell_type": "markdown",
   "metadata": {},
   "source": [
    "# 8 pólhnit"
   ]
  },
  {
   "cell_type": "code",
   "execution_count": 32,
   "metadata": {},
   "outputs": [
    {
     "name": "stdout",
     "output_type": "stream",
     "text": [
      "pol2rec (3.277, 2.294)\n",
      "rec2pol (4, 35)\n"
     ]
    }
   ],
   "source": [
    "from math import sin,cos, radians, sqrt, atan2, degrees\n",
    "\n",
    "def pol2rec(r, theta):\n",
    "    theta = radians(theta)\n",
    "    x = round(r*cos(theta),3)\n",
    "    y = round(r*sin(theta),3)\n",
    "    return x,y\n",
    "\n",
    "print(\"pol2rec\",pol2rec(4,35))\n",
    "\n",
    "def rec2pol(x,y):\n",
    "    r = round(sqrt(x**2+y**2))\n",
    "    theta = round(degrees(atan2(y,x)))\n",
    "    return r,theta\n",
    "\n",
    "print(\"rec2pol\",rec2pol(3.277, 2.294))\n"
   ]
  },
  {
   "cell_type": "markdown",
   "metadata": {},
   "source": [
    "Það virkar að breyta fram og til baka eins og sést þegar útkoman úr fyrra fallinu er sett inn í seinna fallið og upprunaleg pólhnit eru fengin"
   ]
  }
 ],
 "metadata": {
  "interpreter": {
   "hash": "d81070026743709bb9828d5354e0a026335c39c8cec37d047fb4b5fc369d19fc"
  },
  "kernelspec": {
   "display_name": "Python 3.10.0 64-bit",
   "language": "python",
   "name": "python3"
  },
  "language_info": {
   "codemirror_mode": {
    "name": "ipython",
    "version": 3
   },
   "file_extension": ".py",
   "mimetype": "text/x-python",
   "name": "python",
   "nbconvert_exporter": "python",
   "pygments_lexer": "ipython3",
   "version": "3.10.0"
  },
  "orig_nbformat": 4
 },
 "nbformat": 4,
 "nbformat_minor": 2
}
